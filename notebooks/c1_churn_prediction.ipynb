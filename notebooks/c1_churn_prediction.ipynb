{
 "cells": [
  {
   "cell_type": "markdown",
   "source": [
    "# Client Churn Prediction\n",
    "---"
   ],
   "metadata": {
    "tags": []
   }
  },
  {
   "cell_type": "markdown",
   "source": [
    "The Top Bank company operates in Europe with a bank account as the main product, this product can keep client's salary and make payments. This account doesn't have any cost in the first 12 months, however, after that time trial, the client needs to rehire the bank for upcoming 12 months and redo this process every year. Recently the Analytics Team noticed that the churn rate is increasing.\n",
    "\n",
    "As a Data Science Consultant, you need to create an action plan to decrease the number of churn customers and show the financial return on your solution.\n",
    "At the end of your consultancy, you need to deliver to the TopBottom CEO a model in production, which will receive a customer base via API and return that same base with an extra column with the probability of each customer going into churn.\n",
    "In addition, you will need to provide a report reporting your model's performance and the financial impact of your solution. Questions that the CEO and the Analytics team would like to see in their report:\n",
    "\n",
    "1.  What is Top Bank's current Churn rate? How does it vary monthly?\n",
    "2. What is the performance of the model in classifying customers as churns?\n",
    "3. What is the expected return, in terms of revenue, if the company uses its model to avoid churn from customers?"
   ],
   "metadata": {}
  },
  {
   "cell_type": "markdown",
   "source": [
    "> Disclaimer: This is a fictional bussiness case"
   ],
   "metadata": {}
  },
  {
   "cell_type": "markdown",
   "source": [
    "## PLANNING"
   ],
   "metadata": {
    "heading_collapsed": "true",
    "tags": []
   }
  },
  {
   "cell_type": "markdown",
   "source": [
    "### Input\n",
    "\n",
    "- Predict wheter customer will be in churn;\n",
    "- Dataset with sales records and customers info."
   ],
   "metadata": {}
  },
  {
   "cell_type": "markdown",
   "source": [
    "### Output\n",
    "\n",
    "- Which customer will be in churn;\n",
    "- Churn rate of the company;\n",
    "- Performance of the model;\n",
    "- Action plan"
   ],
   "metadata": {}
  },
  {
   "cell_type": "markdown",
   "source": [
    "### Tasks"
   ],
   "metadata": {
    "heading_collapsed": "true",
    "tags": []
   }
  },
  {
   "cell_type": "markdown",
   "source": [
    "1. Which customer will be in churn:\n",
    "    - What is the criterion?\n",
    "        - Downtime\n",
    "        - Time remaining until the contract ends\n",
    "\n",
    "\n",
    "2. Current churn rate of the company:\n",
    "    - Calculate churn rate\n",
    "    - Calculate monthly churn rate and variation\n",
    "\n",
    "3. Performance of the model:\n",
    "    - TopK score\n",
    "    - Precision at K score\n",
    "    - Recall at K score\n",
    "\n",
    "4. Action plan:\n",
    "    - Discount\n",
    "    - Voucher\n",
    "    - Deposit bonus"
   ],
   "metadata": {}
  },
  {
   "cell_type": "markdown",
   "source": [
    "## IMPORTS"
   ],
   "metadata": {
    "heading_collapsed": "true",
    "tags": []
   }
  },
  {
   "cell_type": "code",
   "execution_count": 80,
   "source": [
    "import pickle\n",
    "import warnings\n",
    "import inflection\n",
    "\n",
    "\n",
    "\n",
    "import numpy                    as np\n",
    "import pandas                   as pd\n",
    "import seaborn                  as sns\n",
    "\n",
    "from IPython.core.display                   import HTML\n",
    "from IPython.core.display                   import Image\n",
    "from boruta                                 import BorutaPy\n",
    "from sklearn.model_selection                import train_test_split\n",
    "from sklearn.ensemble                       import RandomForestClassifier"
   ],
   "outputs": [],
   "metadata": {
    "execution": {
     "iopub.execute_input": "2021-05-09T02:14:05.728078Z",
     "iopub.status.busy": "2021-05-09T02:14:05.727817Z",
     "iopub.status.idle": "2021-05-09T02:14:21.219286Z",
     "shell.execute_reply": "2021-05-09T02:14:21.218001Z",
     "shell.execute_reply.started": "2021-05-09T02:14:05.728008Z"
    },
    "tags": []
   }
  },
  {
   "cell_type": "markdown",
   "source": [
    "## HELPER FUNCTIONS"
   ],
   "metadata": {}
  },
  {
   "cell_type": "code",
   "execution_count": 2,
   "source": [
    "def numerical_metrics(data):\n",
    "    \"\"\"\n",
    "    Shows the main values ​​for descriptive statistics in numerical variables.\n",
    "\n",
    "    Args:\n",
    "        data ([float64 and int64]): Insert all numerical attributes in the dataset\n",
    "\n",
    "    Returns:\n",
    "        [dataframe]: A dataframe with mean, median, std deviation, skewness, kurtosis, min, max and range\n",
    "    \"\"\"\n",
    "    \n",
    "    \n",
    "    data_mean = pd.DataFrame(data.apply(np.mean)).T\n",
    "    data_median = pd.DataFrame(data.apply(np.median)).T\n",
    "    data_std = pd.DataFrame(data.apply(np.std)).T\n",
    "    data_min = pd.DataFrame(data.apply(min)).T\n",
    "    data_max = pd.DataFrame(data.apply(max)).T\n",
    "    data_range = pd.DataFrame(data.apply(lambda x: x.max() - x.min())).T\n",
    "    data_q1 = pd.DataFrame(data.apply(lambda x: np.quantile(x, .25) )).T\n",
    "    data_q3 = pd.DataFrame(data.apply(lambda x: np.quantile(x, .75) )).T\n",
    "    data_skew = pd.DataFrame(data.apply(lambda x: x.skew())).T\n",
    "    data_kurtosis = pd.DataFrame(data.apply(lambda x: x.kurtosis())).T\n",
    "    num_attributes = pd.concat([data_min,data_max,data_range,data_mean,data_median, data_q1, data_q3,data_std,data_skew,data_kurtosis]).T.reset_index()\n",
    "    num_attributes.columns = ['attributes','min','max','range','mean','median','q1','q3', 'st deviation','skewness','kurtosis']\n",
    "\n",
    "    return num_attributes\n",
    "\n",
    "\n",
    "def categorical_metrics(data, col):\n",
    "    \"\"\"\n",
    "    Shows the the absolute and percent values in categorical variables.\n",
    "\n",
    "    Args:\n",
    "        data ([object]): Insert all categorical attributes in the dataset\n",
    "\n",
    "    Returns:\n",
    "        [dataframe]: A dataframe with absolute and percent values\n",
    "    \"\"\"\n",
    "    \n",
    "\n",
    "\n",
    "    return pd.DataFrame({'absolute': data[col].value_counts(), 'percent %': data[col].value_counts(normalize = True) * 100 })\n"
   ],
   "outputs": [],
   "metadata": {
    "execution": {
     "iopub.execute_input": "2021-05-09T02:14:21.222023Z",
     "iopub.status.busy": "2021-05-09T02:14:21.221681Z",
     "iopub.status.idle": "2021-05-09T02:14:21.231019Z",
     "shell.execute_reply": "2021-05-09T02:14:21.230251Z",
     "shell.execute_reply.started": "2021-05-09T02:14:21.221957Z"
    },
    "tags": []
   }
  },
  {
   "cell_type": "code",
   "execution_count": 3,
   "source": [
    "def plot_label(title, xlabel, ylabel, fontsize):\n",
    "    plt.title(title, fontsize = 18)\n",
    "    plt.xlabel(xlabel, fontsize = fontsize)\n",
    "    plt.ylabel(ylabel, fontsize = fontsize)\n",
    "    sns.set_context('notebook')\n",
    "\n",
    "\n",
    "def jupyter_settings():\n",
    "    %matplotlib inline\n",
    "    %pylab inline\n",
    "    plt.style.use( 'tableau-colorblind10' )\n",
    "    plt.rcParams['figure.figsize'] = [25, 12]\n",
    "    plt.rcParams['font.size'] = 24\n",
    "    display( HTML( '<style>.container { width:100% !important; }</style>') )\n",
    "    pd.options.display.max_columns = None\n",
    "    pd.options.display.max_rows = None\n",
    "    pd.set_option( 'display.expand_frame_repr', False )\n",
    "    sns.set()\n",
    "    \n",
    "jupyter_settings()\n",
    "\n",
    "\n",
    "def correlation_matrix(data, id, method):\n",
    "    \"\"\"Generates a correlation matrix of numerical variables\n",
    "\n",
    "    Args:\n",
    "        data ([DataFrame]): [The dataframe of the EDA]\n",
    "        id ([int]): [The customer reference number]\n",
    "        method ([string]): [The method used, it can be ‘pearson’, ‘kendall’ or ‘spearman’]\n",
    "\n",
    "    Returns:\n",
    "        [Image]: [The correlation matrix plot made with seaborn]\n",
    "    \"\"\"\n",
    "    \n",
    "    # correlation\n",
    "    num_attributes = data.select_dtypes(include = ['int64', 'float64'])\n",
    "    num_attributes = num_attributes.drop(columns = id )\n",
    "    correlation = num_attributes.corr(method = method)\n",
    "\n",
    "    # mask\n",
    "    mask = np.zeros_like(correlation)\n",
    "    mask = np.triu(np.ones_like(correlation, dtype=np.bool))\n",
    "\n",
    "    # plot\n",
    "    ax = sns.heatmap(correlation, mask = mask, fmt = '.2f', vmin = -1, vmax = 1, annot = True, cmap = 'magma', square = True)\n",
    "\n",
    "    return ax"
   ],
   "outputs": [
    {
     "output_type": "stream",
     "name": "stdout",
     "text": [
      "Populating the interactive namespace from numpy and matplotlib\n"
     ]
    },
    {
     "output_type": "display_data",
     "data": {
      "text/plain": [
       "<IPython.core.display.HTML object>"
      ],
      "text/html": [
       "<style>.container { width:100% !important; }</style>"
      ]
     },
     "metadata": {}
    }
   ],
   "metadata": {
    "execution": {
     "iopub.execute_input": "2021-05-09T02:14:21.232421Z",
     "iopub.status.busy": "2021-05-09T02:14:21.232074Z",
     "iopub.status.idle": "2021-05-09T02:14:21.260846Z",
     "shell.execute_reply": "2021-05-09T02:14:21.259906Z",
     "shell.execute_reply.started": "2021-05-09T02:14:21.232377Z"
    },
    "tags": []
   }
  },
  {
   "cell_type": "code",
   "execution_count": 4,
   "source": [
    "def sum_of_na(data):\n",
    "    return pd.DataFrame({'Sum of NA': data.isna().sum(), '% NA': data.isna().sum()/data.shape[0]})\n",
    "\n",
    "\n",
    "# ignoring errors\n",
    "warnings.filterwarnings('ignore')\n",
    "\n",
    "# round\n",
    "pd.options.display.float_format = '{:.3f}'.format\n",
    "\n",
    "seed = 42"
   ],
   "outputs": [],
   "metadata": {
    "execution": {
     "iopub.execute_input": "2021-05-09T02:14:21.262211Z",
     "iopub.status.busy": "2021-05-09T02:14:21.261965Z",
     "iopub.status.idle": "2021-05-09T02:14:21.267874Z",
     "shell.execute_reply": "2021-05-09T02:14:21.266788Z",
     "shell.execute_reply.started": "2021-05-09T02:14:21.262181Z"
    },
    "tags": []
   }
  },
  {
   "cell_type": "markdown",
   "source": [
    "## DATA"
   ],
   "metadata": {}
  },
  {
   "cell_type": "markdown",
   "source": [
    "This dataset is avaliable in: https://www.kaggle.com/mervetorkan/churndataset\n",
    "\n",
    "- **Data fields**\n",
    "\n",
    "- **RowNumber**: the number of the columns\n",
    "- **CustomerID**: unique identifier of clients\n",
    "- **Surname**: client's last name\n",
    "- **CreditScore**: clien'ts credit score for the financial market\n",
    "- **Geography**: the country of the client\n",
    "- **Gender**: the gender of the client\n",
    "- **Age**: the client's age\n",
    "- **Tenure**: number of years the client is in the bank \n",
    "- **Balance**: the amount that the client has in their account \n",
    "- **NumOfProducts**: the number of products that the client bought \n",
    "- **HasCrCard**: if the client has a credit card \n",
    "- **IsActiveMember**: if the client is active (within the last 12 months) \n",
    "- **EstimateSalary**: estimative of anual salary of clients \n",
    "- **Exited**: if the client is a churn (*target variable*)\n"
   ],
   "metadata": {}
  },
  {
   "cell_type": "code",
   "execution_count": 5,
   "source": [
    "homepath = '/home/gutto/repos/pa003_client_churn/'"
   ],
   "outputs": [],
   "metadata": {
    "execution": {
     "iopub.execute_input": "2021-05-09T02:14:21.270124Z",
     "iopub.status.busy": "2021-05-09T02:14:21.269819Z",
     "iopub.status.idle": "2021-05-09T02:14:21.274328Z",
     "shell.execute_reply": "2021-05-09T02:14:21.273411Z",
     "shell.execute_reply.started": "2021-05-09T02:14:21.270093Z"
    },
    "tags": []
   }
  },
  {
   "cell_type": "code",
   "execution_count": 6,
   "source": [
    "df_raw = pd.read_csv(homepath + 'data/raw/churn.csv', low_memory = False)"
   ],
   "outputs": [],
   "metadata": {
    "execution": {
     "iopub.execute_input": "2021-05-09T02:14:21.275699Z",
     "iopub.status.busy": "2021-05-09T02:14:21.275453Z",
     "iopub.status.idle": "2021-05-09T02:14:22.179641Z",
     "shell.execute_reply": "2021-05-09T02:14:22.178872Z",
     "shell.execute_reply.started": "2021-05-09T02:14:21.275669Z"
    },
    "tags": []
   }
  },
  {
   "cell_type": "code",
   "execution_count": 7,
   "source": [
    "pickle.dump(df_raw, open(homepath + 'data/processed/df_raw.pkl', 'wb'))"
   ],
   "outputs": [],
   "metadata": {
    "execution": {
     "iopub.execute_input": "2021-05-09T02:14:22.182137Z",
     "iopub.status.busy": "2021-05-09T02:14:22.181893Z",
     "iopub.status.idle": "2021-05-09T02:14:22.383374Z",
     "shell.execute_reply": "2021-05-09T02:14:22.382355Z",
     "shell.execute_reply.started": "2021-05-09T02:14:22.182110Z"
    },
    "tags": []
   }
  },
  {
   "cell_type": "markdown",
   "source": [
    "## 1. DATA DESCRIPTION"
   ],
   "metadata": {}
  },
  {
   "cell_type": "markdown",
   "source": [
    "- **Tasks**\n",
    "    - Dataset First Look\n",
    "    - Organizing Columns\n",
    "    - Data Overview\n",
    "    - Check Zero Values\n",
    "    - Check Data Types\n",
    "    - Descriptive Statistics"
   ],
   "metadata": {}
  },
  {
   "cell_type": "markdown",
   "source": [
    "### 1.1 Dataset First Look"
   ],
   "metadata": {}
  },
  {
   "cell_type": "code",
   "execution_count": 8,
   "source": [
    "df1 = pickle.load(open(homepath + 'data/processed/df_raw.pkl', 'rb'))"
   ],
   "outputs": [],
   "metadata": {
    "execution": {
     "iopub.execute_input": "2021-05-09T02:14:22.386522Z",
     "iopub.status.busy": "2021-05-09T02:14:22.386154Z",
     "iopub.status.idle": "2021-05-09T02:14:22.508210Z",
     "shell.execute_reply": "2021-05-09T02:14:22.507511Z",
     "shell.execute_reply.started": "2021-05-09T02:14:22.386480Z"
    },
    "tags": []
   }
  },
  {
   "cell_type": "code",
   "execution_count": 9,
   "source": [
    "df1.head().T"
   ],
   "outputs": [
    {
     "output_type": "execute_result",
     "data": {
      "text/plain": [
       "                         0          1          2         3          4\n",
       "RowNumber                1          2          3         4          5\n",
       "CustomerId        15634602   15647311   15619304  15701354   15737888\n",
       "Surname           Hargrave       Hill       Onio      Boni   Mitchell\n",
       "CreditScore            619        608        502       699        850\n",
       "Geography           France      Spain     France    France      Spain\n",
       "Gender              Female     Female     Female    Female     Female\n",
       "Age                     42         41         42        39         43\n",
       "Tenure                   2          1          8         1          2\n",
       "Balance              0.000  83807.860 159660.800     0.000 125510.820\n",
       "NumOfProducts            1          1          3         2          1\n",
       "HasCrCard                1          0          1         0          1\n",
       "IsActiveMember           1          1          0         0          1\n",
       "EstimatedSalary 101348.880 112542.580 113931.570 93826.630  79084.100\n",
       "Exited                   1          0          1         0          0"
      ],
      "text/html": [
       "<div>\n",
       "<style scoped>\n",
       "    .dataframe tbody tr th:only-of-type {\n",
       "        vertical-align: middle;\n",
       "    }\n",
       "\n",
       "    .dataframe tbody tr th {\n",
       "        vertical-align: top;\n",
       "    }\n",
       "\n",
       "    .dataframe thead th {\n",
       "        text-align: right;\n",
       "    }\n",
       "</style>\n",
       "<table border=\"1\" class=\"dataframe\">\n",
       "  <thead>\n",
       "    <tr style=\"text-align: right;\">\n",
       "      <th></th>\n",
       "      <th>0</th>\n",
       "      <th>1</th>\n",
       "      <th>2</th>\n",
       "      <th>3</th>\n",
       "      <th>4</th>\n",
       "    </tr>\n",
       "  </thead>\n",
       "  <tbody>\n",
       "    <tr>\n",
       "      <th>RowNumber</th>\n",
       "      <td>1</td>\n",
       "      <td>2</td>\n",
       "      <td>3</td>\n",
       "      <td>4</td>\n",
       "      <td>5</td>\n",
       "    </tr>\n",
       "    <tr>\n",
       "      <th>CustomerId</th>\n",
       "      <td>15634602</td>\n",
       "      <td>15647311</td>\n",
       "      <td>15619304</td>\n",
       "      <td>15701354</td>\n",
       "      <td>15737888</td>\n",
       "    </tr>\n",
       "    <tr>\n",
       "      <th>Surname</th>\n",
       "      <td>Hargrave</td>\n",
       "      <td>Hill</td>\n",
       "      <td>Onio</td>\n",
       "      <td>Boni</td>\n",
       "      <td>Mitchell</td>\n",
       "    </tr>\n",
       "    <tr>\n",
       "      <th>CreditScore</th>\n",
       "      <td>619</td>\n",
       "      <td>608</td>\n",
       "      <td>502</td>\n",
       "      <td>699</td>\n",
       "      <td>850</td>\n",
       "    </tr>\n",
       "    <tr>\n",
       "      <th>Geography</th>\n",
       "      <td>France</td>\n",
       "      <td>Spain</td>\n",
       "      <td>France</td>\n",
       "      <td>France</td>\n",
       "      <td>Spain</td>\n",
       "    </tr>\n",
       "    <tr>\n",
       "      <th>Gender</th>\n",
       "      <td>Female</td>\n",
       "      <td>Female</td>\n",
       "      <td>Female</td>\n",
       "      <td>Female</td>\n",
       "      <td>Female</td>\n",
       "    </tr>\n",
       "    <tr>\n",
       "      <th>Age</th>\n",
       "      <td>42</td>\n",
       "      <td>41</td>\n",
       "      <td>42</td>\n",
       "      <td>39</td>\n",
       "      <td>43</td>\n",
       "    </tr>\n",
       "    <tr>\n",
       "      <th>Tenure</th>\n",
       "      <td>2</td>\n",
       "      <td>1</td>\n",
       "      <td>8</td>\n",
       "      <td>1</td>\n",
       "      <td>2</td>\n",
       "    </tr>\n",
       "    <tr>\n",
       "      <th>Balance</th>\n",
       "      <td>0.000</td>\n",
       "      <td>83807.860</td>\n",
       "      <td>159660.800</td>\n",
       "      <td>0.000</td>\n",
       "      <td>125510.820</td>\n",
       "    </tr>\n",
       "    <tr>\n",
       "      <th>NumOfProducts</th>\n",
       "      <td>1</td>\n",
       "      <td>1</td>\n",
       "      <td>3</td>\n",
       "      <td>2</td>\n",
       "      <td>1</td>\n",
       "    </tr>\n",
       "    <tr>\n",
       "      <th>HasCrCard</th>\n",
       "      <td>1</td>\n",
       "      <td>0</td>\n",
       "      <td>1</td>\n",
       "      <td>0</td>\n",
       "      <td>1</td>\n",
       "    </tr>\n",
       "    <tr>\n",
       "      <th>IsActiveMember</th>\n",
       "      <td>1</td>\n",
       "      <td>1</td>\n",
       "      <td>0</td>\n",
       "      <td>0</td>\n",
       "      <td>1</td>\n",
       "    </tr>\n",
       "    <tr>\n",
       "      <th>EstimatedSalary</th>\n",
       "      <td>101348.880</td>\n",
       "      <td>112542.580</td>\n",
       "      <td>113931.570</td>\n",
       "      <td>93826.630</td>\n",
       "      <td>79084.100</td>\n",
       "    </tr>\n",
       "    <tr>\n",
       "      <th>Exited</th>\n",
       "      <td>1</td>\n",
       "      <td>0</td>\n",
       "      <td>1</td>\n",
       "      <td>0</td>\n",
       "      <td>0</td>\n",
       "    </tr>\n",
       "  </tbody>\n",
       "</table>\n",
       "</div>"
      ]
     },
     "metadata": {},
     "execution_count": 9
    }
   ],
   "metadata": {
    "execution": {
     "iopub.execute_input": "2021-05-09T02:14:22.509103Z",
     "iopub.status.busy": "2021-05-09T02:14:22.508913Z",
     "iopub.status.idle": "2021-05-09T02:14:22.525254Z",
     "shell.execute_reply": "2021-05-09T02:14:22.524266Z",
     "shell.execute_reply.started": "2021-05-09T02:14:22.509080Z"
    },
    "tags": []
   }
  },
  {
   "cell_type": "code",
   "execution_count": 10,
   "source": [
    "df1.duplicated('CustomerId').sum()"
   ],
   "outputs": [
    {
     "output_type": "execute_result",
     "data": {
      "text/plain": [
       "0"
      ]
     },
     "metadata": {},
     "execution_count": 10
    }
   ],
   "metadata": {}
  },
  {
   "cell_type": "markdown",
   "source": [
    "### 1.2 Organizing Columns"
   ],
   "metadata": {}
  },
  {
   "cell_type": "markdown",
   "source": [
    "These columns will not be used"
   ],
   "metadata": {}
  },
  {
   "cell_type": "code",
   "execution_count": 11,
   "source": [
    "#Remove columns\n",
    "df1 = df1.drop(['CustomerId', 'RowNumber', 'Surname'], axis = 1)"
   ],
   "outputs": [],
   "metadata": {}
  },
  {
   "cell_type": "code",
   "execution_count": 12,
   "source": [
    "# changing to snakecase type\n",
    "cols_old = df1.columns\n",
    "snakecase = lambda x: inflection.underscore(x)\n",
    "\n",
    "cols_new = list(map(snakecase, cols_old))\n",
    "df1.columns = cols_new"
   ],
   "outputs": [],
   "metadata": {
    "execution": {
     "iopub.execute_input": "2021-05-09T02:14:22.526784Z",
     "iopub.status.busy": "2021-05-09T02:14:22.526408Z",
     "iopub.status.idle": "2021-05-09T02:14:22.531697Z",
     "shell.execute_reply": "2021-05-09T02:14:22.530748Z",
     "shell.execute_reply.started": "2021-05-09T02:14:22.526749Z"
    },
    "tags": []
   }
  },
  {
   "cell_type": "code",
   "execution_count": 13,
   "source": [
    "df1.columns"
   ],
   "outputs": [
    {
     "output_type": "execute_result",
     "data": {
      "text/plain": [
       "Index(['credit_score', 'geography', 'gender', 'age', 'tenure', 'balance',\n",
       "       'num_of_products', 'has_cr_card', 'is_active_member',\n",
       "       'estimated_salary', 'exited'],\n",
       "      dtype='object')"
      ]
     },
     "metadata": {},
     "execution_count": 13
    }
   ],
   "metadata": {}
  },
  {
   "cell_type": "code",
   "execution_count": 14,
   "source": [
    "df1 = df1.reindex(columns=['is_active_member', 'exited', 'has_cr_card', 'credit_score', 'num_of_products', 'estimated_salary', 'balance', 'tenure', 'age', 'gender', 'geography'])\n",
    "df1.head()"
   ],
   "outputs": [
    {
     "output_type": "execute_result",
     "data": {
      "text/plain": [
       "   is_active_member  exited  has_cr_card  credit_score  num_of_products  estimated_salary    balance  tenure  age  gender geography\n",
       "0                 1       1            1           619                1        101348.880      0.000       2   42  Female    France\n",
       "1                 1       0            0           608                1        112542.580  83807.860       1   41  Female     Spain\n",
       "2                 0       1            1           502                3        113931.570 159660.800       8   42  Female    France\n",
       "3                 0       0            0           699                2         93826.630      0.000       1   39  Female    France\n",
       "4                 1       0            1           850                1         79084.100 125510.820       2   43  Female     Spain"
      ],
      "text/html": [
       "<div>\n",
       "<style scoped>\n",
       "    .dataframe tbody tr th:only-of-type {\n",
       "        vertical-align: middle;\n",
       "    }\n",
       "\n",
       "    .dataframe tbody tr th {\n",
       "        vertical-align: top;\n",
       "    }\n",
       "\n",
       "    .dataframe thead th {\n",
       "        text-align: right;\n",
       "    }\n",
       "</style>\n",
       "<table border=\"1\" class=\"dataframe\">\n",
       "  <thead>\n",
       "    <tr style=\"text-align: right;\">\n",
       "      <th></th>\n",
       "      <th>is_active_member</th>\n",
       "      <th>exited</th>\n",
       "      <th>has_cr_card</th>\n",
       "      <th>credit_score</th>\n",
       "      <th>num_of_products</th>\n",
       "      <th>estimated_salary</th>\n",
       "      <th>balance</th>\n",
       "      <th>tenure</th>\n",
       "      <th>age</th>\n",
       "      <th>gender</th>\n",
       "      <th>geography</th>\n",
       "    </tr>\n",
       "  </thead>\n",
       "  <tbody>\n",
       "    <tr>\n",
       "      <th>0</th>\n",
       "      <td>1</td>\n",
       "      <td>1</td>\n",
       "      <td>1</td>\n",
       "      <td>619</td>\n",
       "      <td>1</td>\n",
       "      <td>101348.880</td>\n",
       "      <td>0.000</td>\n",
       "      <td>2</td>\n",
       "      <td>42</td>\n",
       "      <td>Female</td>\n",
       "      <td>France</td>\n",
       "    </tr>\n",
       "    <tr>\n",
       "      <th>1</th>\n",
       "      <td>1</td>\n",
       "      <td>0</td>\n",
       "      <td>0</td>\n",
       "      <td>608</td>\n",
       "      <td>1</td>\n",
       "      <td>112542.580</td>\n",
       "      <td>83807.860</td>\n",
       "      <td>1</td>\n",
       "      <td>41</td>\n",
       "      <td>Female</td>\n",
       "      <td>Spain</td>\n",
       "    </tr>\n",
       "    <tr>\n",
       "      <th>2</th>\n",
       "      <td>0</td>\n",
       "      <td>1</td>\n",
       "      <td>1</td>\n",
       "      <td>502</td>\n",
       "      <td>3</td>\n",
       "      <td>113931.570</td>\n",
       "      <td>159660.800</td>\n",
       "      <td>8</td>\n",
       "      <td>42</td>\n",
       "      <td>Female</td>\n",
       "      <td>France</td>\n",
       "    </tr>\n",
       "    <tr>\n",
       "      <th>3</th>\n",
       "      <td>0</td>\n",
       "      <td>0</td>\n",
       "      <td>0</td>\n",
       "      <td>699</td>\n",
       "      <td>2</td>\n",
       "      <td>93826.630</td>\n",
       "      <td>0.000</td>\n",
       "      <td>1</td>\n",
       "      <td>39</td>\n",
       "      <td>Female</td>\n",
       "      <td>France</td>\n",
       "    </tr>\n",
       "    <tr>\n",
       "      <th>4</th>\n",
       "      <td>1</td>\n",
       "      <td>0</td>\n",
       "      <td>1</td>\n",
       "      <td>850</td>\n",
       "      <td>1</td>\n",
       "      <td>79084.100</td>\n",
       "      <td>125510.820</td>\n",
       "      <td>2</td>\n",
       "      <td>43</td>\n",
       "      <td>Female</td>\n",
       "      <td>Spain</td>\n",
       "    </tr>\n",
       "  </tbody>\n",
       "</table>\n",
       "</div>"
      ]
     },
     "metadata": {},
     "execution_count": 14
    }
   ],
   "metadata": {}
  },
  {
   "cell_type": "markdown",
   "source": [
    "### 1.3 Data Overview"
   ],
   "metadata": {}
  },
  {
   "cell_type": "code",
   "execution_count": 15,
   "source": [
    "print(f'Number of rows: {df1.shape[0]} \\nNumber of columns: {df1.shape[1]}')"
   ],
   "outputs": [
    {
     "output_type": "stream",
     "name": "stdout",
     "text": [
      "Number of rows: 10000 \n",
      "Number of columns: 11\n"
     ]
    }
   ],
   "metadata": {}
  },
  {
   "cell_type": "code",
   "execution_count": 16,
   "source": [
    "df1.info()"
   ],
   "outputs": [
    {
     "output_type": "stream",
     "name": "stdout",
     "text": [
      "<class 'pandas.core.frame.DataFrame'>\n",
      "RangeIndex: 10000 entries, 0 to 9999\n",
      "Data columns (total 11 columns):\n",
      " #   Column            Non-Null Count  Dtype  \n",
      "---  ------            --------------  -----  \n",
      " 0   is_active_member  10000 non-null  int64  \n",
      " 1   exited            10000 non-null  int64  \n",
      " 2   has_cr_card       10000 non-null  int64  \n",
      " 3   credit_score      10000 non-null  int64  \n",
      " 4   num_of_products   10000 non-null  int64  \n",
      " 5   estimated_salary  10000 non-null  float64\n",
      " 6   balance           10000 non-null  float64\n",
      " 7   tenure            10000 non-null  int64  \n",
      " 8   age               10000 non-null  int64  \n",
      " 9   gender            10000 non-null  object \n",
      " 10  geography         10000 non-null  object \n",
      "dtypes: float64(2), int64(7), object(2)\n",
      "memory usage: 859.5+ KB\n"
     ]
    }
   ],
   "metadata": {}
  },
  {
   "cell_type": "markdown",
   "source": [
    "is_active_member, exited and has_cr_card should be strings"
   ],
   "metadata": {}
  },
  {
   "cell_type": "markdown",
   "source": [
    "There's no NA in this dataset, however, there's a possibility that there are zeros in place of NAs"
   ],
   "metadata": {}
  },
  {
   "cell_type": "markdown",
   "source": [
    "### 1.4 Check Zero Values"
   ],
   "metadata": {}
  },
  {
   "cell_type": "code",
   "execution_count": 17,
   "source": [
    "df1.head()"
   ],
   "outputs": [
    {
     "output_type": "execute_result",
     "data": {
      "text/plain": [
       "   is_active_member  exited  has_cr_card  credit_score  num_of_products  estimated_salary    balance  tenure  age  gender geography\n",
       "0                 1       1            1           619                1        101348.880      0.000       2   42  Female    France\n",
       "1                 1       0            0           608                1        112542.580  83807.860       1   41  Female     Spain\n",
       "2                 0       1            1           502                3        113931.570 159660.800       8   42  Female    France\n",
       "3                 0       0            0           699                2         93826.630      0.000       1   39  Female    France\n",
       "4                 1       0            1           850                1         79084.100 125510.820       2   43  Female     Spain"
      ],
      "text/html": [
       "<div>\n",
       "<style scoped>\n",
       "    .dataframe tbody tr th:only-of-type {\n",
       "        vertical-align: middle;\n",
       "    }\n",
       "\n",
       "    .dataframe tbody tr th {\n",
       "        vertical-align: top;\n",
       "    }\n",
       "\n",
       "    .dataframe thead th {\n",
       "        text-align: right;\n",
       "    }\n",
       "</style>\n",
       "<table border=\"1\" class=\"dataframe\">\n",
       "  <thead>\n",
       "    <tr style=\"text-align: right;\">\n",
       "      <th></th>\n",
       "      <th>is_active_member</th>\n",
       "      <th>exited</th>\n",
       "      <th>has_cr_card</th>\n",
       "      <th>credit_score</th>\n",
       "      <th>num_of_products</th>\n",
       "      <th>estimated_salary</th>\n",
       "      <th>balance</th>\n",
       "      <th>tenure</th>\n",
       "      <th>age</th>\n",
       "      <th>gender</th>\n",
       "      <th>geography</th>\n",
       "    </tr>\n",
       "  </thead>\n",
       "  <tbody>\n",
       "    <tr>\n",
       "      <th>0</th>\n",
       "      <td>1</td>\n",
       "      <td>1</td>\n",
       "      <td>1</td>\n",
       "      <td>619</td>\n",
       "      <td>1</td>\n",
       "      <td>101348.880</td>\n",
       "      <td>0.000</td>\n",
       "      <td>2</td>\n",
       "      <td>42</td>\n",
       "      <td>Female</td>\n",
       "      <td>France</td>\n",
       "    </tr>\n",
       "    <tr>\n",
       "      <th>1</th>\n",
       "      <td>1</td>\n",
       "      <td>0</td>\n",
       "      <td>0</td>\n",
       "      <td>608</td>\n",
       "      <td>1</td>\n",
       "      <td>112542.580</td>\n",
       "      <td>83807.860</td>\n",
       "      <td>1</td>\n",
       "      <td>41</td>\n",
       "      <td>Female</td>\n",
       "      <td>Spain</td>\n",
       "    </tr>\n",
       "    <tr>\n",
       "      <th>2</th>\n",
       "      <td>0</td>\n",
       "      <td>1</td>\n",
       "      <td>1</td>\n",
       "      <td>502</td>\n",
       "      <td>3</td>\n",
       "      <td>113931.570</td>\n",
       "      <td>159660.800</td>\n",
       "      <td>8</td>\n",
       "      <td>42</td>\n",
       "      <td>Female</td>\n",
       "      <td>France</td>\n",
       "    </tr>\n",
       "    <tr>\n",
       "      <th>3</th>\n",
       "      <td>0</td>\n",
       "      <td>0</td>\n",
       "      <td>0</td>\n",
       "      <td>699</td>\n",
       "      <td>2</td>\n",
       "      <td>93826.630</td>\n",
       "      <td>0.000</td>\n",
       "      <td>1</td>\n",
       "      <td>39</td>\n",
       "      <td>Female</td>\n",
       "      <td>France</td>\n",
       "    </tr>\n",
       "    <tr>\n",
       "      <th>4</th>\n",
       "      <td>1</td>\n",
       "      <td>0</td>\n",
       "      <td>1</td>\n",
       "      <td>850</td>\n",
       "      <td>1</td>\n",
       "      <td>79084.100</td>\n",
       "      <td>125510.820</td>\n",
       "      <td>2</td>\n",
       "      <td>43</td>\n",
       "      <td>Female</td>\n",
       "      <td>Spain</td>\n",
       "    </tr>\n",
       "  </tbody>\n",
       "</table>\n",
       "</div>"
      ]
     },
     "metadata": {},
     "execution_count": 17
    }
   ],
   "metadata": {}
  },
  {
   "cell_type": "code",
   "execution_count": 18,
   "source": [
    "df1_verify = df1[['credit_score', 'num_of_products', 'estimated_salary', 'balance', 'age']]\n",
    "\n",
    "for col in df1_verify.columns:\n",
    "    df1_verify[col] = df1_verify[col].apply(lambda x: '0' if x ==0 else 'another value')"
   ],
   "outputs": [],
   "metadata": {}
  },
  {
   "cell_type": "code",
   "execution_count": 19,
   "source": [
    "df1_verify.apply(lambda x: x.unique())"
   ],
   "outputs": [
    {
     "output_type": "execute_result",
     "data": {
      "text/plain": [
       "credit_score           [another value]\n",
       "num_of_products        [another value]\n",
       "estimated_salary       [another value]\n",
       "balance             [0, another value]\n",
       "age                    [another value]\n",
       "dtype: object"
      ]
     },
     "metadata": {},
     "execution_count": 19
    }
   ],
   "metadata": {}
  },
  {
   "cell_type": "code",
   "execution_count": 20,
   "source": [
    "df1_verify['balance'].value_counts()"
   ],
   "outputs": [
    {
     "output_type": "execute_result",
     "data": {
      "text/plain": [
       "another value    6383\n",
       "0                3617\n",
       "Name: balance, dtype: int64"
      ]
     },
     "metadata": {},
     "execution_count": 20
    }
   ],
   "metadata": {}
  },
  {
   "cell_type": "markdown",
   "source": [
    "The balance columns has more than 1/3 of zero values, it doesn't mean that they're missing values but the DS team should get more information about this\n"
   ],
   "metadata": {}
  },
  {
   "cell_type": "markdown",
   "source": [
    "### 1.5 Change Data Types"
   ],
   "metadata": {}
  },
  {
   "cell_type": "code",
   "execution_count": 61,
   "source": [
    "col_cat = ['has_cr_card', 'is_active_member', 'exited']\n",
    "\n",
    "for col in col_cat:\n",
    "    df1[col] = df1[col].apply(lambda x: 'yes' if x == 1 else 'no')"
   ],
   "outputs": [],
   "metadata": {}
  },
  {
   "cell_type": "markdown",
   "source": [
    "### 1.6 Descriptive Statistics"
   ],
   "metadata": {}
  },
  {
   "cell_type": "markdown",
   "source": [
    "#### 1.6.1 Numerical Attributes"
   ],
   "metadata": {}
  },
  {
   "cell_type": "code",
   "execution_count": 22,
   "source": [
    "num_attributes = df1.select_dtypes(include = ['int64', 'float64'])\n",
    "num_cols = num_attributes.columns.tolist()"
   ],
   "outputs": [],
   "metadata": {
    "execution": {
     "iopub.execute_input": "2021-05-09T02:14:23.903079Z",
     "iopub.status.busy": "2021-05-09T02:14:23.902757Z",
     "iopub.status.idle": "2021-05-09T02:14:23.916387Z",
     "shell.execute_reply": "2021-05-09T02:14:23.915559Z",
     "shell.execute_reply.started": "2021-05-09T02:14:23.903032Z"
    },
    "tags": []
   }
  },
  {
   "cell_type": "code",
   "execution_count": 23,
   "source": [
    "num_attributes_result = numerical_metrics(num_attributes[num_cols])\n",
    "num_attributes_result"
   ],
   "outputs": [
    {
     "output_type": "execute_result",
     "data": {
      "text/plain": [
       "         attributes     min        max      range       mean     median        q1         q3  st deviation  skewness  kurtosis\n",
       "0      credit_score 350.000    850.000    500.000    650.529    652.000   584.000    718.000        96.648    -0.072    -0.426\n",
       "1   num_of_products   1.000      4.000      3.000      1.530      1.000     1.000      2.000         0.582     0.746     0.583\n",
       "2  estimated_salary  11.580 199992.480 199980.900 100090.240 100193.915 51002.110 149388.247     57507.617     0.002    -1.182\n",
       "3           balance   0.000 250898.090 250898.090  76485.889  97198.540     0.000 127644.240     62394.285    -0.141    -1.489\n",
       "4            tenure   0.000     10.000     10.000      5.013      5.000     3.000      7.000         2.892     0.011    -1.165\n",
       "5               age  18.000     92.000     74.000     38.922     37.000    32.000     44.000        10.487     1.011     1.395"
      ],
      "text/html": [
       "<div>\n",
       "<style scoped>\n",
       "    .dataframe tbody tr th:only-of-type {\n",
       "        vertical-align: middle;\n",
       "    }\n",
       "\n",
       "    .dataframe tbody tr th {\n",
       "        vertical-align: top;\n",
       "    }\n",
       "\n",
       "    .dataframe thead th {\n",
       "        text-align: right;\n",
       "    }\n",
       "</style>\n",
       "<table border=\"1\" class=\"dataframe\">\n",
       "  <thead>\n",
       "    <tr style=\"text-align: right;\">\n",
       "      <th></th>\n",
       "      <th>attributes</th>\n",
       "      <th>min</th>\n",
       "      <th>max</th>\n",
       "      <th>range</th>\n",
       "      <th>mean</th>\n",
       "      <th>median</th>\n",
       "      <th>q1</th>\n",
       "      <th>q3</th>\n",
       "      <th>st deviation</th>\n",
       "      <th>skewness</th>\n",
       "      <th>kurtosis</th>\n",
       "    </tr>\n",
       "  </thead>\n",
       "  <tbody>\n",
       "    <tr>\n",
       "      <th>0</th>\n",
       "      <td>credit_score</td>\n",
       "      <td>350.000</td>\n",
       "      <td>850.000</td>\n",
       "      <td>500.000</td>\n",
       "      <td>650.529</td>\n",
       "      <td>652.000</td>\n",
       "      <td>584.000</td>\n",
       "      <td>718.000</td>\n",
       "      <td>96.648</td>\n",
       "      <td>-0.072</td>\n",
       "      <td>-0.426</td>\n",
       "    </tr>\n",
       "    <tr>\n",
       "      <th>1</th>\n",
       "      <td>num_of_products</td>\n",
       "      <td>1.000</td>\n",
       "      <td>4.000</td>\n",
       "      <td>3.000</td>\n",
       "      <td>1.530</td>\n",
       "      <td>1.000</td>\n",
       "      <td>1.000</td>\n",
       "      <td>2.000</td>\n",
       "      <td>0.582</td>\n",
       "      <td>0.746</td>\n",
       "      <td>0.583</td>\n",
       "    </tr>\n",
       "    <tr>\n",
       "      <th>2</th>\n",
       "      <td>estimated_salary</td>\n",
       "      <td>11.580</td>\n",
       "      <td>199992.480</td>\n",
       "      <td>199980.900</td>\n",
       "      <td>100090.240</td>\n",
       "      <td>100193.915</td>\n",
       "      <td>51002.110</td>\n",
       "      <td>149388.247</td>\n",
       "      <td>57507.617</td>\n",
       "      <td>0.002</td>\n",
       "      <td>-1.182</td>\n",
       "    </tr>\n",
       "    <tr>\n",
       "      <th>3</th>\n",
       "      <td>balance</td>\n",
       "      <td>0.000</td>\n",
       "      <td>250898.090</td>\n",
       "      <td>250898.090</td>\n",
       "      <td>76485.889</td>\n",
       "      <td>97198.540</td>\n",
       "      <td>0.000</td>\n",
       "      <td>127644.240</td>\n",
       "      <td>62394.285</td>\n",
       "      <td>-0.141</td>\n",
       "      <td>-1.489</td>\n",
       "    </tr>\n",
       "    <tr>\n",
       "      <th>4</th>\n",
       "      <td>tenure</td>\n",
       "      <td>0.000</td>\n",
       "      <td>10.000</td>\n",
       "      <td>10.000</td>\n",
       "      <td>5.013</td>\n",
       "      <td>5.000</td>\n",
       "      <td>3.000</td>\n",
       "      <td>7.000</td>\n",
       "      <td>2.892</td>\n",
       "      <td>0.011</td>\n",
       "      <td>-1.165</td>\n",
       "    </tr>\n",
       "    <tr>\n",
       "      <th>5</th>\n",
       "      <td>age</td>\n",
       "      <td>18.000</td>\n",
       "      <td>92.000</td>\n",
       "      <td>74.000</td>\n",
       "      <td>38.922</td>\n",
       "      <td>37.000</td>\n",
       "      <td>32.000</td>\n",
       "      <td>44.000</td>\n",
       "      <td>10.487</td>\n",
       "      <td>1.011</td>\n",
       "      <td>1.395</td>\n",
       "    </tr>\n",
       "  </tbody>\n",
       "</table>\n",
       "</div>"
      ]
     },
     "metadata": {},
     "execution_count": 23
    }
   ],
   "metadata": {
    "execution": {
     "iopub.execute_input": "2021-05-09T02:14:23.923219Z",
     "iopub.status.busy": "2021-05-09T02:14:23.922833Z",
     "iopub.status.idle": "2021-05-09T02:14:24.255743Z",
     "shell.execute_reply": "2021-05-09T02:14:24.254867Z",
     "shell.execute_reply.started": "2021-05-09T02:14:23.923188Z"
    },
    "tags": []
   }
  },
  {
   "cell_type": "markdown",
   "source": [
    "#### 1.6.2 Outliers"
   ],
   "metadata": {}
  },
  {
   "cell_type": "code",
   "execution_count": 24,
   "source": [
    "i = 1\n",
    "for col in df1[num_cols]:\n",
    "    plt.subplot(3, 3, i)\n",
    "    ax = sns.boxplot(data = df1, x = col)\n",
    "    i += 1"
   ],
   "outputs": [
    {
     "output_type": "display_data",
     "data": {
      "text/plain": [
       "<Figure size 1800x864 with 6 Axes>"
      ],
      "image/png": "[encoded data removed]"
     },
     "metadata": {}
    }
   ],
   "metadata": {}
  },
  {
   "cell_type": "markdown",
   "source": [
    "#### 1.6.3 Categorical Attributes"
   ],
   "metadata": {}
  },
  {
   "cell_type": "code",
   "execution_count": 25,
   "source": [
    "categorical_attributes = df1.select_dtypes(exclude = ['int64', 'float64'])\n",
    "categorical_attributes.columns"
   ],
   "outputs": [
    {
     "output_type": "execute_result",
     "data": {
      "text/plain": [
       "Index(['is_active_member', 'exited', 'has_cr_card', 'gender', 'geography'], dtype='object')"
      ]
     },
     "metadata": {},
     "execution_count": 25
    }
   ],
   "metadata": {}
  },
  {
   "cell_type": "code",
   "execution_count": 26,
   "source": [
    "categorical_metrics(categorical_attributes, 'is_active_member')"
   ],
   "outputs": [
    {
     "output_type": "execute_result",
     "data": {
      "text/plain": [
       "     absolute  percent %\n",
       "yes      5151     51.510\n",
       "no       4849     48.490"
      ],
      "text/html": [
       "<div>\n",
       "<style scoped>\n",
       "    .dataframe tbody tr th:only-of-type {\n",
       "        vertical-align: middle;\n",
       "    }\n",
       "\n",
       "    .dataframe tbody tr th {\n",
       "        vertical-align: top;\n",
       "    }\n",
       "\n",
       "    .dataframe thead th {\n",
       "        text-align: right;\n",
       "    }\n",
       "</style>\n",
       "<table border=\"1\" class=\"dataframe\">\n",
       "  <thead>\n",
       "    <tr style=\"text-align: right;\">\n",
       "      <th></th>\n",
       "      <th>absolute</th>\n",
       "      <th>percent %</th>\n",
       "    </tr>\n",
       "  </thead>\n",
       "  <tbody>\n",
       "    <tr>\n",
       "      <th>yes</th>\n",
       "      <td>5151</td>\n",
       "      <td>51.510</td>\n",
       "    </tr>\n",
       "    <tr>\n",
       "      <th>no</th>\n",
       "      <td>4849</td>\n",
       "      <td>48.490</td>\n",
       "    </tr>\n",
       "  </tbody>\n",
       "</table>\n",
       "</div>"
      ]
     },
     "metadata": {},
     "execution_count": 26
    }
   ],
   "metadata": {}
  },
  {
   "cell_type": "code",
   "execution_count": 27,
   "source": [
    "categorical_metrics(categorical_attributes, 'has_cr_card')"
   ],
   "outputs": [
    {
     "output_type": "execute_result",
     "data": {
      "text/plain": [
       "     absolute  percent %\n",
       "yes      7055     70.550\n",
       "no       2945     29.450"
      ],
      "text/html": [
       "<div>\n",
       "<style scoped>\n",
       "    .dataframe tbody tr th:only-of-type {\n",
       "        vertical-align: middle;\n",
       "    }\n",
       "\n",
       "    .dataframe tbody tr th {\n",
       "        vertical-align: top;\n",
       "    }\n",
       "\n",
       "    .dataframe thead th {\n",
       "        text-align: right;\n",
       "    }\n",
       "</style>\n",
       "<table border=\"1\" class=\"dataframe\">\n",
       "  <thead>\n",
       "    <tr style=\"text-align: right;\">\n",
       "      <th></th>\n",
       "      <th>absolute</th>\n",
       "      <th>percent %</th>\n",
       "    </tr>\n",
       "  </thead>\n",
       "  <tbody>\n",
       "    <tr>\n",
       "      <th>yes</th>\n",
       "      <td>7055</td>\n",
       "      <td>70.550</td>\n",
       "    </tr>\n",
       "    <tr>\n",
       "      <th>no</th>\n",
       "      <td>2945</td>\n",
       "      <td>29.450</td>\n",
       "    </tr>\n",
       "  </tbody>\n",
       "</table>\n",
       "</div>"
      ]
     },
     "metadata": {},
     "execution_count": 27
    }
   ],
   "metadata": {}
  },
  {
   "cell_type": "code",
   "execution_count": 28,
   "source": [
    "categorical_metrics(categorical_attributes, 'exited')"
   ],
   "outputs": [
    {
     "output_type": "execute_result",
     "data": {
      "text/plain": [
       "     absolute  percent %\n",
       "no       7963     79.630\n",
       "yes      2037     20.370"
      ],
      "text/html": [
       "<div>\n",
       "<style scoped>\n",
       "    .dataframe tbody tr th:only-of-type {\n",
       "        vertical-align: middle;\n",
       "    }\n",
       "\n",
       "    .dataframe tbody tr th {\n",
       "        vertical-align: top;\n",
       "    }\n",
       "\n",
       "    .dataframe thead th {\n",
       "        text-align: right;\n",
       "    }\n",
       "</style>\n",
       "<table border=\"1\" class=\"dataframe\">\n",
       "  <thead>\n",
       "    <tr style=\"text-align: right;\">\n",
       "      <th></th>\n",
       "      <th>absolute</th>\n",
       "      <th>percent %</th>\n",
       "    </tr>\n",
       "  </thead>\n",
       "  <tbody>\n",
       "    <tr>\n",
       "      <th>no</th>\n",
       "      <td>7963</td>\n",
       "      <td>79.630</td>\n",
       "    </tr>\n",
       "    <tr>\n",
       "      <th>yes</th>\n",
       "      <td>2037</td>\n",
       "      <td>20.370</td>\n",
       "    </tr>\n",
       "  </tbody>\n",
       "</table>\n",
       "</div>"
      ]
     },
     "metadata": {},
     "execution_count": 28
    }
   ],
   "metadata": {}
  },
  {
   "cell_type": "code",
   "execution_count": 29,
   "source": [
    "categorical_metrics(categorical_attributes, 'gender')"
   ],
   "outputs": [
    {
     "output_type": "execute_result",
     "data": {
      "text/plain": [
       "        absolute  percent %\n",
       "Male        5457     54.570\n",
       "Female      4543     45.430"
      ],
      "text/html": [
       "<div>\n",
       "<style scoped>\n",
       "    .dataframe tbody tr th:only-of-type {\n",
       "        vertical-align: middle;\n",
       "    }\n",
       "\n",
       "    .dataframe tbody tr th {\n",
       "        vertical-align: top;\n",
       "    }\n",
       "\n",
       "    .dataframe thead th {\n",
       "        text-align: right;\n",
       "    }\n",
       "</style>\n",
       "<table border=\"1\" class=\"dataframe\">\n",
       "  <thead>\n",
       "    <tr style=\"text-align: right;\">\n",
       "      <th></th>\n",
       "      <th>absolute</th>\n",
       "      <th>percent %</th>\n",
       "    </tr>\n",
       "  </thead>\n",
       "  <tbody>\n",
       "    <tr>\n",
       "      <th>Male</th>\n",
       "      <td>5457</td>\n",
       "      <td>54.570</td>\n",
       "    </tr>\n",
       "    <tr>\n",
       "      <th>Female</th>\n",
       "      <td>4543</td>\n",
       "      <td>45.430</td>\n",
       "    </tr>\n",
       "  </tbody>\n",
       "</table>\n",
       "</div>"
      ]
     },
     "metadata": {},
     "execution_count": 29
    }
   ],
   "metadata": {}
  },
  {
   "cell_type": "code",
   "execution_count": 30,
   "source": [
    "categorical_metrics(categorical_attributes, 'geography')"
   ],
   "outputs": [
    {
     "output_type": "execute_result",
     "data": {
      "text/plain": [
       "         absolute  percent %\n",
       "France       5014     50.140\n",
       "Germany      2509     25.090\n",
       "Spain        2477     24.770"
      ],
      "text/html": [
       "<div>\n",
       "<style scoped>\n",
       "    .dataframe tbody tr th:only-of-type {\n",
       "        vertical-align: middle;\n",
       "    }\n",
       "\n",
       "    .dataframe tbody tr th {\n",
       "        vertical-align: top;\n",
       "    }\n",
       "\n",
       "    .dataframe thead th {\n",
       "        text-align: right;\n",
       "    }\n",
       "</style>\n",
       "<table border=\"1\" class=\"dataframe\">\n",
       "  <thead>\n",
       "    <tr style=\"text-align: right;\">\n",
       "      <th></th>\n",
       "      <th>absolute</th>\n",
       "      <th>percent %</th>\n",
       "    </tr>\n",
       "  </thead>\n",
       "  <tbody>\n",
       "    <tr>\n",
       "      <th>France</th>\n",
       "      <td>5014</td>\n",
       "      <td>50.140</td>\n",
       "    </tr>\n",
       "    <tr>\n",
       "      <th>Germany</th>\n",
       "      <td>2509</td>\n",
       "      <td>25.090</td>\n",
       "    </tr>\n",
       "    <tr>\n",
       "      <th>Spain</th>\n",
       "      <td>2477</td>\n",
       "      <td>24.770</td>\n",
       "    </tr>\n",
       "  </tbody>\n",
       "</table>\n",
       "</div>"
      ]
     },
     "metadata": {},
     "execution_count": 30
    }
   ],
   "metadata": {}
  },
  {
   "cell_type": "markdown",
   "source": [
    "Important informations:\n",
    "- There are outliers in **credit_score, num_of_products and age**\n",
    "- The **churn ratio is 20.37%**;\n",
    "- **70.6%** of the members **has credit card**;\n",
    "- More than **50% of the clients** are **from France**"
   ],
   "metadata": {}
  },
  {
   "cell_type": "markdown",
   "source": [
    "### 1.7 Save State"
   ],
   "metadata": {}
  },
  {
   "cell_type": "code",
   "execution_count": 31,
   "source": [
    "pickle.dump(df1, open(homepath + 'data/processed/df1.pkl', 'wb'))"
   ],
   "outputs": [],
   "metadata": {
    "execution": {
     "iopub.execute_input": "2021-05-09T02:14:32.728758Z",
     "iopub.status.busy": "2021-05-09T02:14:32.728574Z",
     "iopub.status.idle": "2021-05-09T02:14:32.858316Z",
     "shell.execute_reply": "2021-05-09T02:14:32.857431Z",
     "shell.execute_reply.started": "2021-05-09T02:14:32.728736Z"
    },
    "tags": []
   }
  },
  {
   "cell_type": "markdown",
   "source": [
    "## 2. FEATURE ENGINEERING"
   ],
   "metadata": {}
  },
  {
   "cell_type": "markdown",
   "source": [
    "- **Tasks**\n",
    "    - Dataset Checkpoint\n",
    "    - Features Creatrion\n",
    "    - Save State"
   ],
   "metadata": {}
  },
  {
   "cell_type": "markdown",
   "source": [
    "### 2.1 Dataset Checkpoint"
   ],
   "metadata": {}
  },
  {
   "cell_type": "code",
   "execution_count": 32,
   "source": [
    "df2 = pickle.load(open(homepath + 'data/processed/df1.pkl', 'rb'))"
   ],
   "outputs": [],
   "metadata": {
    "execution": {
     "iopub.execute_input": "2021-05-09T02:14:32.859738Z",
     "iopub.status.busy": "2021-05-09T02:14:32.859474Z",
     "iopub.status.idle": "2021-05-09T02:14:32.924020Z",
     "shell.execute_reply": "2021-05-09T02:14:32.922333Z",
     "shell.execute_reply.started": "2021-05-09T02:14:32.859709Z"
    },
    "tags": []
   }
  },
  {
   "cell_type": "markdown",
   "source": [
    "### 2.2 Features Creation"
   ],
   "metadata": {}
  },
  {
   "cell_type": "code",
   "execution_count": 33,
   "source": [
    "df2.columns"
   ],
   "outputs": [
    {
     "output_type": "execute_result",
     "data": {
      "text/plain": [
       "Index(['is_active_member', 'exited', 'has_cr_card', 'credit_score',\n",
       "       'num_of_products', 'estimated_salary', 'balance', 'tenure', 'age',\n",
       "       'gender', 'geography'],\n",
       "      dtype='object')"
      ]
     },
     "metadata": {},
     "execution_count": 33
    }
   ],
   "metadata": {}
  },
  {
   "cell_type": "markdown",
   "source": [
    "1. Creating `avg_salary`:"
   ],
   "metadata": {}
  },
  {
   "cell_type": "code",
   "execution_count": 34,
   "source": [
    "avg_salary = np.mean(df2.loc[:, 'estimated_salary'].values)\n",
    "df2['avg_salary'] = avg_salary"
   ],
   "outputs": [],
   "metadata": {}
  },
  {
   "cell_type": "markdown",
   "source": [
    "2. Creating `avg_credit_score`:"
   ],
   "metadata": {}
  },
  {
   "cell_type": "code",
   "execution_count": 35,
   "source": [
    "avg_credit_score = np.mean(df2.loc[:, 'credit_score'].values)\n",
    "df2['avg_credit_score'] = avg_credit_score"
   ],
   "outputs": [],
   "metadata": {}
  },
  {
   "cell_type": "markdown",
   "source": [
    "3. Creating `avg_balance`:"
   ],
   "metadata": {}
  },
  {
   "cell_type": "code",
   "execution_count": 36,
   "source": [
    "avg_balance = np.mean(df2.loc[:, 'balance'].values)\n",
    "df2['avg_balance'] = avg_balance"
   ],
   "outputs": [],
   "metadata": {}
  },
  {
   "cell_type": "markdown",
   "source": [
    "4. Creating `avg_tenure`:"
   ],
   "metadata": {}
  },
  {
   "cell_type": "code",
   "execution_count": 37,
   "source": [
    "avg_tenure = np.mean(df2.loc[:, 'tenure'].values)\n",
    "df2['avg_tenure'] = avg_tenure"
   ],
   "outputs": [],
   "metadata": {}
  },
  {
   "cell_type": "markdown",
   "source": [
    "5. Creating `estimated_salary_per_credit_score`:"
   ],
   "metadata": {}
  },
  {
   "cell_type": "code",
   "execution_count": 38,
   "source": [
    "estimated_salary_cs = df2.loc[:, ['credit_score', 'estimated_salary']].groupby('credit_score').mean().reset_index()\n",
    "estimated_salary_cs.columns = ['credit_score', 'estimated_salary_per_credit_score']\n",
    "\n",
    "# merge\n",
    "df2 = pd.merge(df2, estimated_salary_cs, on = 'credit_score', how = 'left')"
   ],
   "outputs": [],
   "metadata": {}
  },
  {
   "cell_type": "markdown",
   "source": [
    "6. Creating `estimated_salary_per_gender`:"
   ],
   "metadata": {}
  },
  {
   "cell_type": "code",
   "execution_count": 39,
   "source": [
    "estimated_salary_gender = df2.loc[:, ['gender', 'estimated_salary']].groupby('gender').mean().reset_index()\n",
    "estimated_salary_gender.columns = ['gender', 'estimated_salary_per_gender']\n",
    "\n",
    "# merge\n",
    "df2 = pd.merge(df2, estimated_salary_gender, on = 'gender', how = 'left')"
   ],
   "outputs": [],
   "metadata": {}
  },
  {
   "cell_type": "markdown",
   "source": [
    "7. Creating `estimated_salary_per_country`:"
   ],
   "metadata": {}
  },
  {
   "cell_type": "code",
   "execution_count": 40,
   "source": [
    "estimated_salary_country = df2.loc[:, ['geography', 'estimated_salary']].groupby('geography').mean().reset_index()\n",
    "estimated_salary_country.columns = ['geography', '_estimated_salary_per_country']\n",
    "\n",
    "# merge\n",
    "df2 = pd.merge(df2, estimated_salary_country, on = 'geography', how = 'left')"
   ],
   "outputs": [],
   "metadata": {}
  },
  {
   "cell_type": "markdown",
   "source": [
    "8. Creating `balance_per_age`:"
   ],
   "metadata": {}
  },
  {
   "cell_type": "code",
   "execution_count": 41,
   "source": [
    "balance_age = df2.loc[:, ['age', 'balance']].groupby('age').mean().reset_index()\n",
    "balance_age.columns = ['age', 'balance_per_age']\n",
    "\n",
    "# merge\n",
    "df2 = pd.merge(df2, balance_age, on = 'age', how = 'left')"
   ],
   "outputs": [],
   "metadata": {}
  },
  {
   "cell_type": "markdown",
   "source": [
    "9. Creating `balance_per_country`:"
   ],
   "metadata": {}
  },
  {
   "cell_type": "code",
   "execution_count": 42,
   "source": [
    "balance_country = df2.loc[:, ['geography', 'balance']].groupby('geography').mean().reset_index()\n",
    "balance_country.columns = ['geography', 'balance_per_country']\n",
    "\n",
    "# merge\n",
    "df2 = pd.merge(df2, balance_country, on = 'geography', how = 'left')"
   ],
   "outputs": [],
   "metadata": {}
  },
  {
   "cell_type": "markdown",
   "source": [
    "10. Creating `balance_per_num_of_products`:"
   ],
   "metadata": {}
  },
  {
   "cell_type": "code",
   "execution_count": 43,
   "source": [
    "balance_number_of_products = df2.loc[:, ['num_of_products', 'balance']].groupby('num_of_products').mean().reset_index()\n",
    "balance_number_of_products.columns = ['num_of_products', 'balance_per_num_of_products']\n",
    "\n",
    "# merge\n",
    "df2 = pd.merge(df2, balance_number_of_products, on = 'num_of_products', how = 'left')"
   ],
   "outputs": [],
   "metadata": {}
  },
  {
   "cell_type": "markdown",
   "source": [
    "11. Creating LTV:"
   ],
   "metadata": {}
  },
  {
   "cell_type": "code",
   "execution_count": 44,
   "source": [
    "balance_tenure = df2.loc[:, ['tenure', 'balance']].groupby('tenure').mean().reset_index()\n",
    "balance_tenure.columns = ['tenure', 'LTV']\n",
    "\n",
    "# merge\n",
    "df2 = pd.merge(df2, balance_tenure, on = 'tenure', how = 'left')"
   ],
   "outputs": [],
   "metadata": {}
  },
  {
   "cell_type": "markdown",
   "source": [
    "12. Creating estimated_salary_credit_card:"
   ],
   "metadata": {}
  },
  {
   "cell_type": "code",
   "execution_count": 45,
   "source": [
    "estimated_salary_credit_card = df2.loc[:, ['has_cr_card', 'estimated_salary']].groupby('has_cr_card').mean().reset_index()\n",
    "estimated_salary_credit_card.columns = ['has_cr_card', 'estimated_salary_credit_card']\n",
    "\n",
    "# merge\n",
    "df2 = pd.merge(df2, estimated_salary_credit_card, on = 'has_cr_card', how = 'left')"
   ],
   "outputs": [],
   "metadata": {}
  },
  {
   "cell_type": "markdown",
   "source": [
    "13. Creating tenure_per_country:"
   ],
   "metadata": {}
  },
  {
   "cell_type": "code",
   "execution_count": 46,
   "source": [
    "tenure_country = df2.loc[:, ['geography', 'tenure']].groupby('geography').mean().reset_index()\n",
    "tenure_country.columns = ['geography', 'tenure_per_country']\n",
    "\n",
    "# merge\n",
    "df2 = pd.merge(df2, tenure_country, on = 'geography', how = 'left')"
   ],
   "outputs": [],
   "metadata": {}
  },
  {
   "cell_type": "markdown",
   "source": [
    "14. Creating tenure_per_num_of_products:"
   ],
   "metadata": {}
  },
  {
   "cell_type": "code",
   "execution_count": 47,
   "source": [
    "tenure_num_of_products = df2.loc[:, ['num_of_products', 'tenure']].groupby('num_of_products').mean().reset_index()\n",
    "tenure_num_of_products.columns = ['num_of_products', 'tenure_per_num_of_products']\n",
    "\n",
    "# merge\n",
    "df2 = pd.merge(df2, tenure_num_of_products, on = 'num_of_products', how = 'left')"
   ],
   "outputs": [],
   "metadata": {}
  },
  {
   "cell_type": "markdown",
   "source": [
    "15. Creating num_of_products_per_age:"
   ],
   "metadata": {}
  },
  {
   "cell_type": "code",
   "execution_count": 48,
   "source": [
    "num_of_products_age = df2.loc[:, ['age', 'num_of_products']].groupby('age').mean().reset_index()\n",
    "num_of_products_age.columns = ['age', 'num_of_products_per_age']\n",
    "\n",
    "# merge\n",
    "df2 = pd.merge(df2, num_of_products_age, on = 'age', how = 'left')"
   ],
   "outputs": [],
   "metadata": {}
  },
  {
   "cell_type": "markdown",
   "source": [
    "16. Creating num_of_products_per_country:"
   ],
   "metadata": {}
  },
  {
   "cell_type": "code",
   "execution_count": 49,
   "source": [
    "num_of_products_country = df2.loc[:, ['geography', 'num_of_products']].groupby('geography').mean().reset_index()\n",
    "num_of_products_country.columns = ['geography', 'num_of_products_per_country']\n",
    "\n",
    "# merge\n",
    "df2 = pd.merge(df2, num_of_products_country, on = 'geography', how = 'left')"
   ],
   "outputs": [],
   "metadata": {}
  },
  {
   "cell_type": "code",
   "execution_count": 53,
   "source": [
    "verify_nan = pd.DataFrame({'Sum of NA': df2.isna().sum(), '% NA': df2.isna().sum()/df2.shape[0]})\n",
    "verify_nan"
   ],
   "outputs": [
    {
     "output_type": "execute_result",
     "data": {
      "text/plain": [
       "                                   Sum of NA  % NA\n",
       "is_active_member                           0 0.000\n",
       "exited                                     0 0.000\n",
       "has_cr_card                                0 0.000\n",
       "credit_score                               0 0.000\n",
       "num_of_products                            0 0.000\n",
       "estimated_salary                           0 0.000\n",
       "balance                                    0 0.000\n",
       "tenure                                     0 0.000\n",
       "age                                        0 0.000\n",
       "gender                                     0 0.000\n",
       "geography                                  0 0.000\n",
       "avg_salary                                 0 0.000\n",
       "avg_credit_score                           0 0.000\n",
       "avg_balance                                0 0.000\n",
       "avg_tenure                                 0 0.000\n",
       "estimated_salary_per_credit_score          0 0.000\n",
       "estimated_salary_per_gender                0 0.000\n",
       "_estimated_salary_per_country              0 0.000\n",
       "balance_per_age                            0 0.000\n",
       "balance_per_country                        0 0.000\n",
       "balance_per_num_of_products                0 0.000\n",
       "LTV                                        0 0.000\n",
       "estimated_salary_credit_card               0 0.000\n",
       "tenure_per_country                         0 0.000\n",
       "tenure_per_num_of_products                 0 0.000\n",
       "num_of_products_per_age                    0 0.000\n",
       "num_of_products_per_country                0 0.000"
      ],
      "text/html": [
       "<div>\n",
       "<style scoped>\n",
       "    .dataframe tbody tr th:only-of-type {\n",
       "        vertical-align: middle;\n",
       "    }\n",
       "\n",
       "    .dataframe tbody tr th {\n",
       "        vertical-align: top;\n",
       "    }\n",
       "\n",
       "    .dataframe thead th {\n",
       "        text-align: right;\n",
       "    }\n",
       "</style>\n",
       "<table border=\"1\" class=\"dataframe\">\n",
       "  <thead>\n",
       "    <tr style=\"text-align: right;\">\n",
       "      <th></th>\n",
       "      <th>Sum of NA</th>\n",
       "      <th>% NA</th>\n",
       "    </tr>\n",
       "  </thead>\n",
       "  <tbody>\n",
       "    <tr>\n",
       "      <th>is_active_member</th>\n",
       "      <td>0</td>\n",
       "      <td>0.000</td>\n",
       "    </tr>\n",
       "    <tr>\n",
       "      <th>exited</th>\n",
       "      <td>0</td>\n",
       "      <td>0.000</td>\n",
       "    </tr>\n",
       "    <tr>\n",
       "      <th>has_cr_card</th>\n",
       "      <td>0</td>\n",
       "      <td>0.000</td>\n",
       "    </tr>\n",
       "    <tr>\n",
       "      <th>credit_score</th>\n",
       "      <td>0</td>\n",
       "      <td>0.000</td>\n",
       "    </tr>\n",
       "    <tr>\n",
       "      <th>num_of_products</th>\n",
       "      <td>0</td>\n",
       "      <td>0.000</td>\n",
       "    </tr>\n",
       "    <tr>\n",
       "      <th>estimated_salary</th>\n",
       "      <td>0</td>\n",
       "      <td>0.000</td>\n",
       "    </tr>\n",
       "    <tr>\n",
       "      <th>balance</th>\n",
       "      <td>0</td>\n",
       "      <td>0.000</td>\n",
       "    </tr>\n",
       "    <tr>\n",
       "      <th>tenure</th>\n",
       "      <td>0</td>\n",
       "      <td>0.000</td>\n",
       "    </tr>\n",
       "    <tr>\n",
       "      <th>age</th>\n",
       "      <td>0</td>\n",
       "      <td>0.000</td>\n",
       "    </tr>\n",
       "    <tr>\n",
       "      <th>gender</th>\n",
       "      <td>0</td>\n",
       "      <td>0.000</td>\n",
       "    </tr>\n",
       "    <tr>\n",
       "      <th>geography</th>\n",
       "      <td>0</td>\n",
       "      <td>0.000</td>\n",
       "    </tr>\n",
       "    <tr>\n",
       "      <th>avg_salary</th>\n",
       "      <td>0</td>\n",
       "      <td>0.000</td>\n",
       "    </tr>\n",
       "    <tr>\n",
       "      <th>avg_credit_score</th>\n",
       "      <td>0</td>\n",
       "      <td>0.000</td>\n",
       "    </tr>\n",
       "    <tr>\n",
       "      <th>avg_balance</th>\n",
       "      <td>0</td>\n",
       "      <td>0.000</td>\n",
       "    </tr>\n",
       "    <tr>\n",
       "      <th>avg_tenure</th>\n",
       "      <td>0</td>\n",
       "      <td>0.000</td>\n",
       "    </tr>\n",
       "    <tr>\n",
       "      <th>estimated_salary_per_credit_score</th>\n",
       "      <td>0</td>\n",
       "      <td>0.000</td>\n",
       "    </tr>\n",
       "    <tr>\n",
       "      <th>estimated_salary_per_gender</th>\n",
       "      <td>0</td>\n",
       "      <td>0.000</td>\n",
       "    </tr>\n",
       "    <tr>\n",
       "      <th>_estimated_salary_per_country</th>\n",
       "      <td>0</td>\n",
       "      <td>0.000</td>\n",
       "    </tr>\n",
       "    <tr>\n",
       "      <th>balance_per_age</th>\n",
       "      <td>0</td>\n",
       "      <td>0.000</td>\n",
       "    </tr>\n",
       "    <tr>\n",
       "      <th>balance_per_country</th>\n",
       "      <td>0</td>\n",
       "      <td>0.000</td>\n",
       "    </tr>\n",
       "    <tr>\n",
       "      <th>balance_per_num_of_products</th>\n",
       "      <td>0</td>\n",
       "      <td>0.000</td>\n",
       "    </tr>\n",
       "    <tr>\n",
       "      <th>LTV</th>\n",
       "      <td>0</td>\n",
       "      <td>0.000</td>\n",
       "    </tr>\n",
       "    <tr>\n",
       "      <th>estimated_salary_credit_card</th>\n",
       "      <td>0</td>\n",
       "      <td>0.000</td>\n",
       "    </tr>\n",
       "    <tr>\n",
       "      <th>tenure_per_country</th>\n",
       "      <td>0</td>\n",
       "      <td>0.000</td>\n",
       "    </tr>\n",
       "    <tr>\n",
       "      <th>tenure_per_num_of_products</th>\n",
       "      <td>0</td>\n",
       "      <td>0.000</td>\n",
       "    </tr>\n",
       "    <tr>\n",
       "      <th>num_of_products_per_age</th>\n",
       "      <td>0</td>\n",
       "      <td>0.000</td>\n",
       "    </tr>\n",
       "    <tr>\n",
       "      <th>num_of_products_per_country</th>\n",
       "      <td>0</td>\n",
       "      <td>0.000</td>\n",
       "    </tr>\n",
       "  </tbody>\n",
       "</table>\n",
       "</div>"
      ]
     },
     "metadata": {},
     "execution_count": 53
    }
   ],
   "metadata": {}
  },
  {
   "cell_type": "code",
   "execution_count": 54,
   "source": [
    "df2.sample()"
   ],
   "outputs": [
    {
     "output_type": "execute_result",
     "data": {
      "text/plain": [
       "     is_active_member exited has_cr_card  credit_score  num_of_products  estimated_salary    balance  tenure  age gender geography  avg_salary  avg_credit_score  avg_balance  avg_tenure  estimated_salary_per_credit_score  estimated_salary_per_gender  _estimated_salary_per_country  balance_per_age  balance_per_country  balance_per_num_of_products       LTV  estimated_salary_credit_card  tenure_per_country  tenure_per_num_of_products  num_of_products_per_age  num_of_products_per_country\n",
       "1495              yes     no          no           685                1        113483.960 101868.510       7   57   Male   Germany  100090.240           650.529    76485.889       5.013                         112182.568                    99664.577                     101113.435        68884.216           119730.116                    98551.871 75551.634                    100974.398               5.010                       4.975                    1.640                        1.520"
      ],
      "text/html": [
       "<div>\n",
       "<style scoped>\n",
       "    .dataframe tbody tr th:only-of-type {\n",
       "        vertical-align: middle;\n",
       "    }\n",
       "\n",
       "    .dataframe tbody tr th {\n",
       "        vertical-align: top;\n",
       "    }\n",
       "\n",
       "    .dataframe thead th {\n",
       "        text-align: right;\n",
       "    }\n",
       "</style>\n",
       "<table border=\"1\" class=\"dataframe\">\n",
       "  <thead>\n",
       "    <tr style=\"text-align: right;\">\n",
       "      <th></th>\n",
       "      <th>is_active_member</th>\n",
       "      <th>exited</th>\n",
       "      <th>has_cr_card</th>\n",
       "      <th>credit_score</th>\n",
       "      <th>num_of_products</th>\n",
       "      <th>estimated_salary</th>\n",
       "      <th>balance</th>\n",
       "      <th>tenure</th>\n",
       "      <th>age</th>\n",
       "      <th>gender</th>\n",
       "      <th>geography</th>\n",
       "      <th>avg_salary</th>\n",
       "      <th>avg_credit_score</th>\n",
       "      <th>avg_balance</th>\n",
       "      <th>avg_tenure</th>\n",
       "      <th>estimated_salary_per_credit_score</th>\n",
       "      <th>estimated_salary_per_gender</th>\n",
       "      <th>_estimated_salary_per_country</th>\n",
       "      <th>balance_per_age</th>\n",
       "      <th>balance_per_country</th>\n",
       "      <th>balance_per_num_of_products</th>\n",
       "      <th>LTV</th>\n",
       "      <th>estimated_salary_credit_card</th>\n",
       "      <th>tenure_per_country</th>\n",
       "      <th>tenure_per_num_of_products</th>\n",
       "      <th>num_of_products_per_age</th>\n",
       "      <th>num_of_products_per_country</th>\n",
       "    </tr>\n",
       "  </thead>\n",
       "  <tbody>\n",
       "    <tr>\n",
       "      <th>1495</th>\n",
       "      <td>yes</td>\n",
       "      <td>no</td>\n",
       "      <td>no</td>\n",
       "      <td>685</td>\n",
       "      <td>1</td>\n",
       "      <td>113483.960</td>\n",
       "      <td>101868.510</td>\n",
       "      <td>7</td>\n",
       "      <td>57</td>\n",
       "      <td>Male</td>\n",
       "      <td>Germany</td>\n",
       "      <td>100090.240</td>\n",
       "      <td>650.529</td>\n",
       "      <td>76485.889</td>\n",
       "      <td>5.013</td>\n",
       "      <td>112182.568</td>\n",
       "      <td>99664.577</td>\n",
       "      <td>101113.435</td>\n",
       "      <td>68884.216</td>\n",
       "      <td>119730.116</td>\n",
       "      <td>98551.871</td>\n",
       "      <td>75551.634</td>\n",
       "      <td>100974.398</td>\n",
       "      <td>5.010</td>\n",
       "      <td>4.975</td>\n",
       "      <td>1.640</td>\n",
       "      <td>1.520</td>\n",
       "    </tr>\n",
       "  </tbody>\n",
       "</table>\n",
       "</div>"
      ]
     },
     "metadata": {},
     "execution_count": 54
    }
   ],
   "metadata": {}
  },
  {
   "cell_type": "markdown",
   "source": [
    "### 2.3 Save State"
   ],
   "metadata": {}
  },
  {
   "cell_type": "code",
   "execution_count": 315,
   "source": [
    "pickle.dump(df2, open(homepath + 'data/processed/df2.pkl', 'wb'))"
   ],
   "outputs": [],
   "metadata": {}
  },
  {
   "cell_type": "markdown",
   "source": [
    "## 3. DATA FILTERING"
   ],
   "metadata": {}
  },
  {
   "cell_type": "markdown",
   "source": [
    "- **Tasks**\n",
    "    - Dataset Checkpoint\n",
    "    - Features\n",
    "    - Save State"
   ],
   "metadata": {}
  },
  {
   "cell_type": "markdown",
   "source": [
    "### 3.1 Dataset Checkpoint"
   ],
   "metadata": {}
  },
  {
   "cell_type": "code",
   "execution_count": 56,
   "source": [
    "df3 = pickle.load(open(homepath + 'data/processed/df2.pkl', 'rb'))"
   ],
   "outputs": [],
   "metadata": {
    "execution": {
     "iopub.execute_input": "2021-05-09T02:14:33.317450Z",
     "iopub.status.busy": "2021-05-09T02:14:33.317204Z",
     "iopub.status.idle": "2021-05-09T02:14:33.371966Z",
     "shell.execute_reply": "2021-05-09T02:14:33.370752Z",
     "shell.execute_reply.started": "2021-05-09T02:14:33.317421Z"
    },
    "tags": []
   }
  },
  {
   "cell_type": "markdown",
   "source": [
    "### 3.3 Save State"
   ],
   "metadata": {}
  },
  {
   "cell_type": "code",
   "execution_count": 57,
   "source": [
    "pickle.dump(df3, open(homepath + 'data/processed/df3.pkl', 'wb'))"
   ],
   "outputs": [],
   "metadata": {}
  },
  {
   "cell_type": "markdown",
   "source": [
    "## 4.0 EXPLORATORY DATA ANALYSIS"
   ],
   "metadata": {}
  },
  {
   "cell_type": "markdown",
   "source": [
    "- **Tasks**\n",
    "    - Univariate Analysis\n",
    "    - Bivariate Analysis\n",
    "    - Multivariate Analysis"
   ],
   "metadata": {
    "execution": {
     "iopub.execute_input": "2021-05-06T20:51:44.063246Z",
     "iopub.status.busy": "2021-05-06T20:51:44.062700Z",
     "iopub.status.idle": "2021-05-06T20:51:44.071065Z",
     "shell.execute_reply": "2021-05-06T20:51:44.069024Z",
     "shell.execute_reply.started": "2021-05-06T20:51:44.063177Z"
    }
   }
  },
  {
   "cell_type": "markdown",
   "source": [
    "### 4.1 Dataset Checkpoint"
   ],
   "metadata": {}
  },
  {
   "cell_type": "code",
   "execution_count": 58,
   "source": [
    "df4 = pickle.load(open(homepath + 'data/processed/df3.pkl', 'rb'))"
   ],
   "outputs": [],
   "metadata": {
    "execution": {
     "iopub.execute_input": "2021-05-09T02:14:34.264919Z",
     "iopub.status.busy": "2021-05-09T02:14:34.264695Z",
     "iopub.status.idle": "2021-05-09T02:14:34.314539Z",
     "shell.execute_reply": "2021-05-09T02:14:34.313788Z",
     "shell.execute_reply.started": "2021-05-09T02:14:34.264893Z"
    },
    "tags": []
   }
  },
  {
   "cell_type": "markdown",
   "source": [
    "### 4.3 Univariate Analysis"
   ],
   "metadata": {}
  },
  {
   "cell_type": "markdown",
   "source": [
    "### 4.4 Bivariate Analysis"
   ],
   "metadata": {}
  },
  {
   "cell_type": "markdown",
   "source": [
    "### 4.5 Multivariate Analysis"
   ],
   "metadata": {}
  },
  {
   "cell_type": "markdown",
   "source": [
    "### 4.6 Save State"
   ],
   "metadata": {
    "execution": {
     "iopub.execute_input": "2021-05-04T22:22:40.009781Z",
     "iopub.status.busy": "2021-05-04T22:22:40.009459Z",
     "iopub.status.idle": "2021-05-04T22:22:40.014474Z",
     "shell.execute_reply": "2021-05-04T22:22:40.013481Z",
     "shell.execute_reply.started": "2021-05-04T22:22:40.009744Z"
    }
   }
  },
  {
   "cell_type": "code",
   "execution_count": 60,
   "source": [
    "pickle.dump(df4, open(homepath + 'data/processed/df4.pkl', 'wb'))"
   ],
   "outputs": [],
   "metadata": {
    "execution": {
     "iopub.execute_input": "2021-05-09T02:15:25.368166Z",
     "iopub.status.busy": "2021-05-09T02:15:25.367942Z",
     "iopub.status.idle": "2021-05-09T02:15:25.550369Z",
     "shell.execute_reply": "2021-05-09T02:15:25.549707Z",
     "shell.execute_reply.started": "2021-05-09T02:15:25.368138Z"
    },
    "tags": []
   }
  },
  {
   "cell_type": "markdown",
   "source": [
    "## 5.0 DATA PREPARATION "
   ],
   "metadata": {}
  },
  {
   "cell_type": "markdown",
   "source": [
    "- **Tasks**\n",
    "    - Dataset Checkpoint\n",
    "    - Save State"
   ],
   "metadata": {
    "execution": {
     "iopub.execute_input": "2021-05-06T20:52:24.841577Z",
     "iopub.status.busy": "2021-05-06T20:52:24.841224Z",
     "iopub.status.idle": "2021-05-06T20:52:24.848150Z",
     "shell.execute_reply": "2021-05-06T20:52:24.846674Z",
     "shell.execute_reply.started": "2021-05-06T20:52:24.841537Z"
    }
   }
  },
  {
   "cell_type": "markdown",
   "source": [
    "### 5.1 Dataset Checkpoint"
   ],
   "metadata": {}
  },
  {
   "cell_type": "code",
   "execution_count": 66,
   "source": [
    "df5 = pickle.load(open(homepath + 'data/processed/df4.pkl', 'rb'))"
   ],
   "outputs": [],
   "metadata": {
    "execution": {
     "iopub.execute_input": "2021-05-09T02:15:25.551312Z",
     "iopub.status.busy": "2021-05-09T02:15:25.551143Z",
     "iopub.status.idle": "2021-05-09T02:15:25.556144Z",
     "shell.execute_reply": "2021-05-09T02:15:25.555166Z",
     "shell.execute_reply.started": "2021-05-09T02:15:25.551280Z"
    },
    "tags": []
   }
  },
  {
   "cell_type": "markdown",
   "source": [
    "### 5.2 Encoding"
   ],
   "metadata": {}
  },
  {
   "cell_type": "code",
   "execution_count": 67,
   "source": [
    "# label encoding \n",
    "gender_encoding = {'Male': 0 , 'Female': 1}\n",
    "df5['gender'] = df5['gender'].map(gender_encoding)\n",
    "\n",
    "questions_encoding = {'yes': 1,'no': 0}\n",
    "df5['is_active_member'] = df3['is_active_member'].map(questions_encoding)\n",
    "df5['has_cr_card'] = df5['has_cr_card'].map(questions_encoding)\n",
    "df5['exited'] = df5['exited'].map(questions_encoding)\n",
    "\n",
    "# one hot encoding encoding \n",
    "df5 = pd.get_dummies(df5, prefix=['country'], columns=['geography'])\n",
    "df5 = pd.get_dummies(df5, prefix=['gender'], columns=['gender'])"
   ],
   "outputs": [],
   "metadata": {}
  },
  {
   "cell_type": "code",
   "execution_count": 68,
   "source": [
    "df5.columns"
   ],
   "outputs": [
    {
     "output_type": "execute_result",
     "data": {
      "text/plain": [
       "Index(['is_active_member', 'exited', 'has_cr_card', 'credit_score',\n",
       "       'num_of_products', 'estimated_salary', 'balance', 'tenure', 'age',\n",
       "       'avg_salary', 'balance_per_age', 'balance_per_country',\n",
       "       'balance_per_num_of_products', 'tenure_per_country',\n",
       "       'tenure_per_num_of_products', 'num_of_products_per_age',\n",
       "       'num_of_products_per_country', 'country_France', 'country_Germany',\n",
       "       'country_Spain', 'gender_0', 'gender_1'],\n",
       "      dtype='object')"
      ]
     },
     "metadata": {},
     "execution_count": 68
    }
   ],
   "metadata": {}
  },
  {
   "cell_type": "markdown",
   "source": [
    "### 5. Save State"
   ],
   "metadata": {}
  },
  {
   "cell_type": "code",
   "execution_count": 69,
   "source": [
    "pickle.dump(df5, open(homepath + 'data/processed/df5.pkl', 'wb'))"
   ],
   "outputs": [],
   "metadata": {
    "execution": {
     "iopub.execute_input": "2021-05-09T02:15:27.759974Z",
     "iopub.status.busy": "2021-05-09T02:15:27.759735Z",
     "iopub.status.idle": "2021-05-09T02:15:27.764224Z",
     "shell.execute_reply": "2021-05-09T02:15:27.763733Z",
     "shell.execute_reply.started": "2021-05-09T02:15:27.759942Z"
    },
    "tags": []
   }
  },
  {
   "cell_type": "markdown",
   "source": [
    "## 6. FEATURE SELECTION"
   ],
   "metadata": {}
  },
  {
   "cell_type": "markdown",
   "source": [
    "- **Tasks**\n",
    "    - Dataset Checkpoint\n",
    "    - Features\n",
    "    - Save State"
   ],
   "metadata": {
    "execution": {
     "iopub.execute_input": "2021-05-06T20:52:38.398686Z",
     "iopub.status.busy": "2021-05-06T20:52:38.398329Z",
     "iopub.status.idle": "2021-05-06T20:52:38.405106Z",
     "shell.execute_reply": "2021-05-06T20:52:38.403533Z",
     "shell.execute_reply.started": "2021-05-06T20:52:38.398645Z"
    }
   }
  },
  {
   "cell_type": "markdown",
   "source": [
    "### 6.1 Dataset Checkpoint"
   ],
   "metadata": {}
  },
  {
   "cell_type": "code",
   "execution_count": 78,
   "source": [
    "df6 = pickle.load(open(homepath + 'data/processed/df5.pkl', 'rb'))"
   ],
   "outputs": [],
   "metadata": {
    "execution": {
     "iopub.execute_input": "2021-05-09T02:15:27.765093Z",
     "iopub.status.busy": "2021-05-09T02:15:27.764926Z",
     "iopub.status.idle": "2021-05-09T02:15:27.777988Z",
     "shell.execute_reply": "2021-05-09T02:15:27.777392Z",
     "shell.execute_reply.started": "2021-05-09T02:15:27.765073Z"
    },
    "tags": []
   }
  },
  {
   "cell_type": "markdown",
   "source": [
    "### 6.2 Split Data"
   ],
   "metadata": {}
  },
  {
   "cell_type": "code",
   "execution_count": 79,
   "source": [
    "X = df6.drop(['exited'], axis = 1)\n",
    "#target\n",
    "y = df6['exited']\n",
    "\n",
    "X_train, X_test, y_train, y_test = train_test_split(X , y, test_size = 0.33, shuffle = True, random_state = seed)"
   ],
   "outputs": [],
   "metadata": {}
  },
  {
   "cell_type": "markdown",
   "source": [
    "### 6.3 Feature Selector Boruta"
   ],
   "metadata": {}
  },
  {
   "cell_type": "code",
   "execution_count": 81,
   "source": [
    "rf = RandomForestClassifier(n_estimators = 500, n_jobs = -1, random_state = seed)\n",
    "\n",
    "boruta = BorutaPy(rf, n_estimators = 'auto', verbose = 2, random_state = seed).fit(X_train.values, y_train.values)"
   ],
   "outputs": [
    {
     "output_type": "stream",
     "name": "stdout",
     "text": [
      "Iteration: \t1 / 100\n",
      "Confirmed: \t0\n",
      "Tentative: \t21\n",
      "Rejected: \t0\n",
      "Iteration: \t2 / 100\n",
      "Confirmed: \t0\n",
      "Tentative: \t21\n",
      "Rejected: \t0\n",
      "Iteration: \t3 / 100\n",
      "Confirmed: \t0\n",
      "Tentative: \t21\n",
      "Rejected: \t0\n",
      "Iteration: \t4 / 100\n",
      "Confirmed: \t0\n",
      "Tentative: \t21\n",
      "Rejected: \t0\n",
      "Iteration: \t5 / 100\n",
      "Confirmed: \t0\n",
      "Tentative: \t21\n",
      "Rejected: \t0\n",
      "Iteration: \t6 / 100\n",
      "Confirmed: \t0\n",
      "Tentative: \t21\n",
      "Rejected: \t0\n",
      "Iteration: \t7 / 100\n",
      "Confirmed: \t0\n",
      "Tentative: \t21\n",
      "Rejected: \t0\n",
      "Iteration: \t8 / 100\n",
      "Confirmed: \t3\n",
      "Tentative: \t4\n",
      "Rejected: \t14\n",
      "Iteration: \t9 / 100\n",
      "Confirmed: \t3\n",
      "Tentative: \t4\n",
      "Rejected: \t14\n",
      "Iteration: \t10 / 100\n",
      "Confirmed: \t3\n",
      "Tentative: \t4\n",
      "Rejected: \t14\n",
      "Iteration: \t11 / 100\n",
      "Confirmed: \t3\n",
      "Tentative: \t4\n",
      "Rejected: \t14\n",
      "Iteration: \t12 / 100\n",
      "Confirmed: \t3\n",
      "Tentative: \t4\n",
      "Rejected: \t14\n",
      "Iteration: \t13 / 100\n",
      "Confirmed: \t3\n",
      "Tentative: \t4\n",
      "Rejected: \t14\n",
      "Iteration: \t14 / 100\n",
      "Confirmed: \t3\n",
      "Tentative: \t4\n",
      "Rejected: \t14\n",
      "Iteration: \t15 / 100\n",
      "Confirmed: \t3\n",
      "Tentative: \t4\n",
      "Rejected: \t14\n",
      "Iteration: \t16 / 100\n",
      "Confirmed: \t3\n",
      "Tentative: \t4\n",
      "Rejected: \t14\n",
      "Iteration: \t17 / 100\n",
      "Confirmed: \t3\n",
      "Tentative: \t4\n",
      "Rejected: \t14\n",
      "Iteration: \t18 / 100\n",
      "Confirmed: \t3\n",
      "Tentative: \t4\n",
      "Rejected: \t14\n",
      "Iteration: \t19 / 100\n",
      "Confirmed: \t3\n",
      "Tentative: \t4\n",
      "Rejected: \t14\n",
      "Iteration: \t20 / 100\n",
      "Confirmed: \t3\n",
      "Tentative: \t4\n",
      "Rejected: \t14\n",
      "Iteration: \t21 / 100\n",
      "Confirmed: \t3\n",
      "Tentative: \t4\n",
      "Rejected: \t14\n",
      "Iteration: \t22 / 100\n",
      "Confirmed: \t3\n",
      "Tentative: \t4\n",
      "Rejected: \t14\n",
      "Iteration: \t23 / 100\n",
      "Confirmed: \t3\n",
      "Tentative: \t4\n",
      "Rejected: \t14\n",
      "Iteration: \t24 / 100\n",
      "Confirmed: \t3\n",
      "Tentative: \t4\n",
      "Rejected: \t14\n",
      "Iteration: \t25 / 100\n",
      "Confirmed: \t3\n",
      "Tentative: \t4\n",
      "Rejected: \t14\n",
      "Iteration: \t26 / 100\n",
      "Confirmed: \t3\n",
      "Tentative: \t4\n",
      "Rejected: \t14\n",
      "Iteration: \t27 / 100\n",
      "Confirmed: \t3\n",
      "Tentative: \t4\n",
      "Rejected: \t14\n",
      "Iteration: \t28 / 100\n",
      "Confirmed: \t3\n",
      "Tentative: \t4\n",
      "Rejected: \t14\n",
      "Iteration: \t29 / 100\n",
      "Confirmed: \t3\n",
      "Tentative: \t2\n",
      "Rejected: \t16\n",
      "Iteration: \t30 / 100\n",
      "Confirmed: \t3\n",
      "Tentative: \t2\n",
      "Rejected: \t16\n",
      "Iteration: \t31 / 100\n",
      "Confirmed: \t3\n",
      "Tentative: \t2\n",
      "Rejected: \t16\n",
      "Iteration: \t32 / 100\n",
      "Confirmed: \t3\n",
      "Tentative: \t2\n",
      "Rejected: \t16\n",
      "Iteration: \t33 / 100\n",
      "Confirmed: \t3\n",
      "Tentative: \t2\n",
      "Rejected: \t16\n",
      "Iteration: \t34 / 100\n",
      "Confirmed: \t3\n",
      "Tentative: \t2\n",
      "Rejected: \t16\n",
      "Iteration: \t35 / 100\n",
      "Confirmed: \t3\n",
      "Tentative: \t2\n",
      "Rejected: \t16\n",
      "Iteration: \t36 / 100\n",
      "Confirmed: \t3\n",
      "Tentative: \t2\n",
      "Rejected: \t16\n",
      "Iteration: \t37 / 100\n",
      "Confirmed: \t3\n",
      "Tentative: \t2\n",
      "Rejected: \t16\n",
      "Iteration: \t38 / 100\n",
      "Confirmed: \t3\n",
      "Tentative: \t2\n",
      "Rejected: \t16\n",
      "Iteration: \t39 / 100\n",
      "Confirmed: \t3\n",
      "Tentative: \t2\n",
      "Rejected: \t16\n",
      "Iteration: \t40 / 100\n",
      "Confirmed: \t3\n",
      "Tentative: \t2\n",
      "Rejected: \t16\n",
      "Iteration: \t41 / 100\n",
      "Confirmed: \t3\n",
      "Tentative: \t2\n",
      "Rejected: \t16\n",
      "Iteration: \t42 / 100\n",
      "Confirmed: \t3\n",
      "Tentative: \t2\n",
      "Rejected: \t16\n",
      "Iteration: \t43 / 100\n",
      "Confirmed: \t3\n",
      "Tentative: \t2\n",
      "Rejected: \t16\n",
      "Iteration: \t44 / 100\n",
      "Confirmed: \t3\n",
      "Tentative: \t2\n",
      "Rejected: \t16\n",
      "Iteration: \t45 / 100\n",
      "Confirmed: \t3\n",
      "Tentative: \t2\n",
      "Rejected: \t16\n",
      "Iteration: \t46 / 100\n",
      "Confirmed: \t3\n",
      "Tentative: \t2\n",
      "Rejected: \t16\n",
      "Iteration: \t47 / 100\n",
      "Confirmed: \t3\n",
      "Tentative: \t2\n",
      "Rejected: \t16\n",
      "Iteration: \t48 / 100\n",
      "Confirmed: \t3\n",
      "Tentative: \t2\n",
      "Rejected: \t16\n",
      "Iteration: \t49 / 100\n",
      "Confirmed: \t3\n",
      "Tentative: \t2\n",
      "Rejected: \t16\n",
      "Iteration: \t50 / 100\n",
      "Confirmed: \t3\n",
      "Tentative: \t2\n",
      "Rejected: \t16\n",
      "Iteration: \t51 / 100\n",
      "Confirmed: \t3\n",
      "Tentative: \t2\n",
      "Rejected: \t16\n",
      "Iteration: \t52 / 100\n",
      "Confirmed: \t3\n",
      "Tentative: \t2\n",
      "Rejected: \t16\n",
      "Iteration: \t53 / 100\n",
      "Confirmed: \t3\n",
      "Tentative: \t2\n",
      "Rejected: \t16\n",
      "Iteration: \t54 / 100\n",
      "Confirmed: \t3\n",
      "Tentative: \t2\n",
      "Rejected: \t16\n",
      "Iteration: \t55 / 100\n",
      "Confirmed: \t3\n",
      "Tentative: \t2\n",
      "Rejected: \t16\n",
      "Iteration: \t56 / 100\n",
      "Confirmed: \t3\n",
      "Tentative: \t2\n",
      "Rejected: \t16\n",
      "Iteration: \t57 / 100\n",
      "Confirmed: \t3\n",
      "Tentative: \t2\n",
      "Rejected: \t16\n",
      "Iteration: \t58 / 100\n",
      "Confirmed: \t3\n",
      "Tentative: \t2\n",
      "Rejected: \t16\n",
      "Iteration: \t59 / 100\n",
      "Confirmed: \t3\n",
      "Tentative: \t2\n",
      "Rejected: \t16\n",
      "Iteration: \t60 / 100\n",
      "Confirmed: \t3\n",
      "Tentative: \t2\n",
      "Rejected: \t16\n",
      "Iteration: \t61 / 100\n",
      "Confirmed: \t3\n",
      "Tentative: \t2\n",
      "Rejected: \t16\n",
      "Iteration: \t62 / 100\n",
      "Confirmed: \t3\n",
      "Tentative: \t2\n",
      "Rejected: \t16\n",
      "Iteration: \t63 / 100\n",
      "Confirmed: \t3\n",
      "Tentative: \t2\n",
      "Rejected: \t16\n",
      "Iteration: \t64 / 100\n",
      "Confirmed: \t3\n",
      "Tentative: \t2\n",
      "Rejected: \t16\n",
      "Iteration: \t65 / 100\n",
      "Confirmed: \t3\n",
      "Tentative: \t2\n",
      "Rejected: \t16\n",
      "Iteration: \t66 / 100\n",
      "Confirmed: \t3\n",
      "Tentative: \t2\n",
      "Rejected: \t16\n",
      "Iteration: \t67 / 100\n",
      "Confirmed: \t3\n",
      "Tentative: \t2\n",
      "Rejected: \t16\n",
      "Iteration: \t68 / 100\n",
      "Confirmed: \t3\n",
      "Tentative: \t2\n",
      "Rejected: \t16\n",
      "Iteration: \t69 / 100\n",
      "Confirmed: \t3\n",
      "Tentative: \t2\n",
      "Rejected: \t16\n",
      "Iteration: \t70 / 100\n",
      "Confirmed: \t3\n",
      "Tentative: \t2\n",
      "Rejected: \t16\n",
      "Iteration: \t71 / 100\n",
      "Confirmed: \t3\n",
      "Tentative: \t2\n",
      "Rejected: \t16\n",
      "Iteration: \t72 / 100\n",
      "Confirmed: \t3\n",
      "Tentative: \t2\n",
      "Rejected: \t16\n",
      "Iteration: \t73 / 100\n",
      "Confirmed: \t3\n",
      "Tentative: \t2\n",
      "Rejected: \t16\n",
      "Iteration: \t74 / 100\n",
      "Confirmed: \t3\n",
      "Tentative: \t2\n",
      "Rejected: \t16\n",
      "Iteration: \t75 / 100\n",
      "Confirmed: \t3\n",
      "Tentative: \t2\n",
      "Rejected: \t16\n",
      "Iteration: \t76 / 100\n",
      "Confirmed: \t3\n",
      "Tentative: \t2\n",
      "Rejected: \t16\n",
      "Iteration: \t77 / 100\n",
      "Confirmed: \t3\n",
      "Tentative: \t2\n",
      "Rejected: \t16\n",
      "Iteration: \t78 / 100\n",
      "Confirmed: \t3\n",
      "Tentative: \t2\n",
      "Rejected: \t16\n",
      "Iteration: \t79 / 100\n",
      "Confirmed: \t3\n",
      "Tentative: \t2\n",
      "Rejected: \t16\n",
      "Iteration: \t80 / 100\n",
      "Confirmed: \t3\n",
      "Tentative: \t2\n",
      "Rejected: \t16\n",
      "Iteration: \t81 / 100\n",
      "Confirmed: \t3\n",
      "Tentative: \t2\n",
      "Rejected: \t16\n",
      "Iteration: \t82 / 100\n",
      "Confirmed: \t3\n",
      "Tentative: \t2\n",
      "Rejected: \t16\n",
      "Iteration: \t83 / 100\n",
      "Confirmed: \t3\n",
      "Tentative: \t2\n",
      "Rejected: \t16\n",
      "Iteration: \t84 / 100\n",
      "Confirmed: \t3\n",
      "Tentative: \t2\n",
      "Rejected: \t16\n",
      "Iteration: \t85 / 100\n",
      "Confirmed: \t3\n",
      "Tentative: \t2\n",
      "Rejected: \t16\n",
      "Iteration: \t86 / 100\n",
      "Confirmed: \t3\n",
      "Tentative: \t2\n",
      "Rejected: \t16\n",
      "Iteration: \t87 / 100\n",
      "Confirmed: \t3\n",
      "Tentative: \t2\n",
      "Rejected: \t16\n",
      "Iteration: \t88 / 100\n",
      "Confirmed: \t3\n",
      "Tentative: \t2\n",
      "Rejected: \t16\n",
      "Iteration: \t89 / 100\n",
      "Confirmed: \t3\n",
      "Tentative: \t2\n",
      "Rejected: \t16\n",
      "Iteration: \t90 / 100\n",
      "Confirmed: \t3\n",
      "Tentative: \t2\n",
      "Rejected: \t16\n",
      "Iteration: \t91 / 100\n",
      "Confirmed: \t3\n",
      "Tentative: \t2\n",
      "Rejected: \t16\n",
      "Iteration: \t92 / 100\n",
      "Confirmed: \t3\n",
      "Tentative: \t2\n",
      "Rejected: \t16\n",
      "Iteration: \t93 / 100\n",
      "Confirmed: \t3\n",
      "Tentative: \t2\n",
      "Rejected: \t16\n",
      "Iteration: \t94 / 100\n",
      "Confirmed: \t3\n",
      "Tentative: \t2\n",
      "Rejected: \t16\n",
      "Iteration: \t95 / 100\n",
      "Confirmed: \t3\n",
      "Tentative: \t2\n",
      "Rejected: \t16\n",
      "Iteration: \t96 / 100\n",
      "Confirmed: \t3\n",
      "Tentative: \t2\n",
      "Rejected: \t16\n",
      "Iteration: \t97 / 100\n",
      "Confirmed: \t3\n",
      "Tentative: \t2\n",
      "Rejected: \t16\n",
      "Iteration: \t98 / 100\n",
      "Confirmed: \t3\n",
      "Tentative: \t2\n",
      "Rejected: \t16\n",
      "Iteration: \t99 / 100\n",
      "Confirmed: \t3\n",
      "Tentative: \t2\n",
      "Rejected: \t16\n",
      "\n",
      "\n",
      "BorutaPy finished running.\n",
      "\n",
      "Iteration: \t100 / 100\n",
      "Confirmed: \t3\n",
      "Tentative: \t1\n",
      "Rejected: \t16\n"
     ]
    }
   ],
   "metadata": {}
  },
  {
   "cell_type": "code",
   "execution_count": 83,
   "source": [
    "cols_selected = boruta.support_.tolist()\n",
    "\n",
    "cols_selected_boruta = X_train.iloc[:, cols_selected].columns.to_list()\n",
    "\n",
    "cols_not_selected_boruta = list( np.setdiff1d(X_train.columns, cols_selected_boruta))"
   ],
   "outputs": [],
   "metadata": {}
  },
  {
   "cell_type": "code",
   "execution_count": 84,
   "source": [
    "cols_selected_boruta"
   ],
   "outputs": [
    {
     "output_type": "execute_result",
     "data": {
      "text/plain": [
       "['balance', 'age', 'balance_per_age']"
      ]
     },
     "metadata": {},
     "execution_count": 84
    }
   ],
   "metadata": {}
  },
  {
   "cell_type": "markdown",
   "source": [
    "### 6.4 LGBM Classifier"
   ],
   "metadata": {}
  },
  {
   "cell_type": "code",
   "execution_count": 86,
   "source": [
    "!pip install lightgbm"
   ],
   "outputs": [
    {
     "output_type": "stream",
     "name": "stdout",
     "text": [
      "Collecting lightgbm\n",
      "  Downloading lightgbm-3.2.1-py3-none-manylinux1_x86_64.whl (2.0 MB)\n",
      "\u001b[K     |████████████████████████████████| 2.0 MB 1.1 MB/s \n",
      "\u001b[?25hRequirement already satisfied: scikit-learn!=0.22.0 in /home/gutto/.pyenv/versions/3.9.6/envs/pa003_client_churn/lib/python3.9/site-packages (from lightgbm) (0.24.2)\n",
      "Requirement already satisfied: numpy in /home/gutto/.pyenv/versions/3.9.6/envs/pa003_client_churn/lib/python3.9/site-packages (from lightgbm) (1.19.5)\n",
      "Collecting wheel\n",
      "  Downloading wheel-0.36.2-py2.py3-none-any.whl (35 kB)\n",
      "Requirement already satisfied: scipy in /home/gutto/.pyenv/versions/3.9.6/envs/pa003_client_churn/lib/python3.9/site-packages (from lightgbm) (1.7.0)\n",
      "Requirement already satisfied: threadpoolctl>=2.0.0 in /home/gutto/.pyenv/versions/3.9.6/envs/pa003_client_churn/lib/python3.9/site-packages (from scikit-learn!=0.22.0->lightgbm) (2.1.0)\n",
      "Requirement already satisfied: joblib>=0.11 in /home/gutto/.pyenv/versions/3.9.6/envs/pa003_client_churn/lib/python3.9/site-packages (from scikit-learn!=0.22.0->lightgbm) (1.0.1)\n",
      "Installing collected packages: wheel, lightgbm\n",
      "Successfully installed lightgbm-3.2.1 wheel-0.36.2\n"
     ]
    }
   ],
   "metadata": {}
  },
  {
   "cell_type": "code",
   "execution_count": 89,
   "source": [
    "!pip install BorutaShap"
   ],
   "outputs": [
    {
     "output_type": "stream",
     "name": "stdout",
     "text": [
      "Collecting BorutaShap\n",
      "  Downloading BorutaShap-1.0.16-py3-none-any.whl (13 kB)\n",
      "Collecting tqdm\n",
      "  Downloading tqdm-4.61.2-py2.py3-none-any.whl (76 kB)\n",
      "\u001b[K     |████████████████████████████████| 76 kB 797 kB/s \n",
      "\u001b[?25hRequirement already satisfied: seaborn in /home/gutto/.pyenv/versions/3.9.6/envs/pa003_client_churn/lib/python3.9/site-packages (from BorutaShap) (0.11.1)\n",
      "Requirement already satisfied: scipy in /home/gutto/.pyenv/versions/3.9.6/envs/pa003_client_churn/lib/python3.9/site-packages (from BorutaShap) (1.7.0)\n",
      "Collecting shap>=0.34.0\n",
      "  Downloading shap-0.39.0.tar.gz (356 kB)\n",
      "\u001b[K     |████████████████████████████████| 356 kB 3.5 MB/s \n",
      "\u001b[?25hCollecting statsmodels\n",
      "  Downloading statsmodels-0.12.2-cp39-cp39-manylinux1_x86_64.whl (9.4 MB)\n",
      "\u001b[K     |████████████████████████████████| 9.4 MB 8.4 MB/s \n",
      "\u001b[?25hRequirement already satisfied: numpy in /home/gutto/.pyenv/versions/3.9.6/envs/pa003_client_churn/lib/python3.9/site-packages (from BorutaShap) (1.19.5)\n",
      "Requirement already satisfied: scikit-learn in /home/gutto/.pyenv/versions/3.9.6/envs/pa003_client_churn/lib/python3.9/site-packages (from BorutaShap) (0.24.2)\n",
      "Requirement already satisfied: matplotlib in /home/gutto/.pyenv/versions/3.9.6/envs/pa003_client_churn/lib/python3.9/site-packages (from BorutaShap) (3.4.2)\n",
      "Requirement already satisfied: pandas in /home/gutto/.pyenv/versions/3.9.6/envs/pa003_client_churn/lib/python3.9/site-packages (from BorutaShap) (1.3.0)\n",
      "Collecting slicer==0.0.7\n",
      "  Downloading slicer-0.0.7-py3-none-any.whl (14 kB)\n",
      "Collecting numba\n",
      "  Downloading numba-0.53.1-cp39-cp39-manylinux2014_x86_64.whl (3.4 MB)\n",
      "\u001b[K     |████████████████████████████████| 3.4 MB 5.1 MB/s \n",
      "\u001b[?25hCollecting cloudpickle\n",
      "  Downloading cloudpickle-1.6.0-py3-none-any.whl (23 kB)\n",
      "Requirement already satisfied: python-dateutil>=2.7 in /home/gutto/.pyenv/versions/3.9.6/envs/pa003_client_churn/lib/python3.9/site-packages (from matplotlib->BorutaShap) (2.8.1)\n",
      "Requirement already satisfied: pyparsing>=2.2.1 in /home/gutto/.pyenv/versions/3.9.6/envs/pa003_client_churn/lib/python3.9/site-packages (from matplotlib->BorutaShap) (2.4.7)\n",
      "Requirement already satisfied: kiwisolver>=1.0.1 in /home/gutto/.pyenv/versions/3.9.6/envs/pa003_client_churn/lib/python3.9/site-packages (from matplotlib->BorutaShap) (1.3.1)\n",
      "Requirement already satisfied: cycler>=0.10 in /home/gutto/.pyenv/versions/3.9.6/envs/pa003_client_churn/lib/python3.9/site-packages (from matplotlib->BorutaShap) (0.10.0)\n",
      "Requirement already satisfied: pillow>=6.2.0 in /home/gutto/.pyenv/versions/3.9.6/envs/pa003_client_churn/lib/python3.9/site-packages (from matplotlib->BorutaShap) (8.3.0)\n",
      "Requirement already satisfied: six in /home/gutto/.pyenv/versions/3.9.6/envs/pa003_client_churn/lib/python3.9/site-packages (from cycler>=0.10->matplotlib->BorutaShap) (1.16.0)\n",
      "Requirement already satisfied: setuptools in /home/gutto/.pyenv/versions/3.9.6/envs/pa003_client_churn/lib/python3.9/site-packages (from numba->shap>=0.34.0->BorutaShap) (56.0.0)\n",
      "Collecting llvmlite<0.37,>=0.36.0rc1\n",
      "  Downloading llvmlite-0.36.0-cp39-cp39-manylinux2010_x86_64.whl (25.3 MB)\n",
      "\u001b[K     |████████████████████████████████| 25.3 MB 90 kB/s \n",
      "\u001b[?25hRequirement already satisfied: pytz>=2017.3 in /home/gutto/.pyenv/versions/3.9.6/envs/pa003_client_churn/lib/python3.9/site-packages (from pandas->BorutaShap) (2021.1)\n",
      "Requirement already satisfied: threadpoolctl>=2.0.0 in /home/gutto/.pyenv/versions/3.9.6/envs/pa003_client_churn/lib/python3.9/site-packages (from scikit-learn->BorutaShap) (2.1.0)\n",
      "Requirement already satisfied: joblib>=0.11 in /home/gutto/.pyenv/versions/3.9.6/envs/pa003_client_churn/lib/python3.9/site-packages (from scikit-learn->BorutaShap) (1.0.1)\n",
      "Collecting patsy>=0.5\n",
      "  Downloading patsy-0.5.1-py2.py3-none-any.whl (231 kB)\n",
      "\u001b[K     |████████████████████████████████| 231 kB 1.2 MB/s \n",
      "\u001b[?25hBuilding wheels for collected packages: shap\n",
      "  Building wheel for shap (setup.py) ... \u001b[?25ldone\n",
      "\u001b[?25h  Created wheel for shap: filename=shap-0.39.0-cp39-cp39-linux_x86_64.whl size=499500 sha256=8f9dce08c3f7e80183abf0a84f2c52d9e17178b48897f22d616394279c6e1ca0\n",
      "  Stored in directory: /home/gutto/.cache/pip/wheels/bb/91/16/f6a057925f93af7e4281f6afce3495b595b473342766eb451c\n",
      "Successfully built shap\n",
      "Installing collected packages: llvmlite, tqdm, slicer, patsy, numba, cloudpickle, statsmodels, shap, BorutaShap\n",
      "Successfully installed BorutaShap-1.0.16 cloudpickle-1.6.0 llvmlite-0.36.0 numba-0.53.1 patsy-0.5.1 shap-0.39.0 slicer-0.0.7 statsmodels-0.12.2 tqdm-4.61.2\n"
     ]
    }
   ],
   "metadata": {}
  },
  {
   "cell_type": "code",
   "execution_count": 90,
   "source": [
    "import lightgbm as lgb\n",
    "from BorutaShap import BorutaShap"
   ],
   "outputs": [],
   "metadata": {}
  },
  {
   "cell_type": "code",
   "execution_count": null,
   "source": [],
   "outputs": [],
   "metadata": {}
  },
  {
   "cell_type": "code",
   "execution_count": 91,
   "source": [
    "# Modelo\n",
    "model = lgb.LGBMClassifier()\n",
    "\n",
    "#Selecionador de Features\n",
    "Feature_Selector = BorutaShap(model=model,\n",
    "                              importance_measure='shap',\n",
    "                              classification=True)\n",
    "\n",
    "Feature_Selector.fit(X=X_train,y=y_train, n_trials=100, random_state=seed)"
   ],
   "outputs": [
    {
     "output_type": "stream",
     "name": "stderr",
     "text": [
      "100%|██████████| 100/100 [02:41<00:00,  1.62s/it]"
     ]
    },
    {
     "output_type": "stream",
     "name": "stdout",
     "text": [
      "8 attributes confirmed important: ['num_of_products', 'gender_0', 'age', 'is_active_member', 'balance', 'balance_per_num_of_products', 'balance_per_country', 'estimated_salary']\n",
      "12 attributes confirmed unimportant: ['gender_1', 'balance_per_age', 'num_of_products_per_age', 'tenure_per_num_of_products', 'avg_salary', 'country_France', 'country_Spain', 'tenure', 'country_Germany', 'tenure_per_country', 'num_of_products_per_country', 'has_cr_card']\n",
      "1 tentative attributes remains: ['credit_score']\n"
     ]
    },
    {
     "output_type": "stream",
     "name": "stderr",
     "text": [
      "\n"
     ]
    }
   ],
   "metadata": {}
  },
  {
   "cell_type": "markdown",
   "source": [
    "### 6. Save State"
   ],
   "metadata": {}
  },
  {
   "cell_type": "code",
   "execution_count": null,
   "source": [
    "pickle.dump(df6, open(homepath + 'data/processed/df6.pkl', 'wb'))"
   ],
   "outputs": [],
   "metadata": {
    "execution": {
     "iopub.execute_input": "2021-05-09T02:15:27.778850Z",
     "iopub.status.busy": "2021-05-09T02:15:27.778696Z",
     "iopub.status.idle": "2021-05-09T02:15:27.783171Z",
     "shell.execute_reply": "2021-05-09T02:15:27.782565Z",
     "shell.execute_reply.started": "2021-05-09T02:15:27.778828Z"
    },
    "tags": []
   }
  },
  {
   "cell_type": "markdown",
   "source": [
    "## 7.0 HYPERPARAMETER FINE TUNING"
   ],
   "metadata": {
    "tags": []
   }
  },
  {
   "cell_type": "markdown",
   "source": [
    "- **Tasks**\n",
    "    - Dataset Checkpoint\n",
    "    - Clusters\n",
    "    - WSS\n",
    "    - Silhouette"
   ],
   "metadata": {}
  },
  {
   "cell_type": "markdown",
   "source": [
    "### 7.1 Dataset Checkpoint"
   ],
   "metadata": {}
  },
  {
   "cell_type": "markdown",
   "source": [
    "## 8.0 MODEL TRAINING"
   ],
   "metadata": {}
  },
  {
   "cell_type": "code",
   "execution_count": null,
   "source": [],
   "outputs": [],
   "metadata": {}
  },
  {
   "cell_type": "code",
   "execution_count": null,
   "source": [],
   "outputs": [],
   "metadata": {}
  },
  {
   "cell_type": "code",
   "execution_count": null,
   "source": [],
   "outputs": [],
   "metadata": {}
  }
 ],
 "metadata": {
  "interpreter": {
   "hash": "ffc027d4052e8b6540c98aca1448fff89d8a6d551bb4d1b935d2ced638537a77"
  },
  "kernelspec": {
   "display_name": "Python 3.9.5 64-bit ('pa005_insiders_clustering': pyenv)",
   "name": "python3"
  },
  "language_info": {
   "name": "python",
   "version": ""
  },
  "metadata": {
   "interpreter": {
    "hash": "062bf5a048747c019c3de5d8ed111d645044d7c5e7148344cf94ec65f9c6821e"
   }
  },
  "orig_nbformat": 3
 },
 "nbformat": 4,
 "nbformat_minor": 5
}